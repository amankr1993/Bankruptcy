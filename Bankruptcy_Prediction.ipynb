{
 "cells": [
  {
   "cell_type": "markdown",
   "metadata": {},
   "source": [
    "# Cute 3"
   ]
  },
  {
   "cell_type": "markdown",
   "metadata": {},
   "source": [
    "## Importing the Required packages"
   ]
  },
  {
   "cell_type": "code",
   "execution_count": 1,
   "metadata": {},
   "outputs": [],
   "source": [
    "import pandas as pd\n",
    "import numpy as np\n",
    "import matplotlib.pyplot as plt\n",
    "import seaborn as sns\n",
    "from sklearn.model_selection import train_test_split\n",
    "from sklearn.preprocessing import StandardScaler\n",
    "from sklearn.decomposition import PCA\n",
    "from sklearn.preprocessing import Imputer\n",
    "from sklearn.pipeline import Pipeline\n",
    "from sklearn.model_selection import GridSearchCV\n",
    "from sklearn.metrics import accuracy_score\n",
    "from sklearn.externals import joblib\n",
    "from sklearn.linear_model import LogisticRegression\n",
    "from sklearn.ensemble import RandomForestClassifier\n",
    "from sklearn import svm\n",
    "from sklearn.tree import DecisionTreeClassifier, export_graphviz,DecisionTreeRegressor\n",
    "from sklearn.metrics import accuracy_score,classification_report, recall_score, precision_score,confusion_matrix,mean_absolute_error,mean_squared_error,f1_score,log_loss\n",
    "from xgboost import XGBClassifier\n",
    "from sklearn.ensemble import GradientBoostingClassifier\n",
    "from sklearn.ensemble import AdaBoostClassifier\n",
    "%matplotlib inline\n",
    "from sklearn import preprocessing, metrics\n",
    "#from sklearn.cross_validation import train_test_split\n",
    "from sklearn.preprocessing import LabelEncoder\n",
    "from sklearn.preprocessing import MinMaxScaler\n",
    "import warnings\n",
    "warnings.filterwarnings('ignore')\n",
    "from sklearn.preprocessing import StandardScaler,OneHotEncoder\n",
    "from sklearn.impute import SimpleImputer\n",
    "from sklearn.compose import ColumnTransformer\n",
    "from sklearn.datasets import make_classification\n",
    "from sklearn.metrics import roc_curve\n",
    "from sklearn.metrics import roc_auc_score\n",
    "import os\n",
    "from imblearn.over_sampling import SMOTE\n",
    "from collections import Counter\n",
    "from imblearn.under_sampling import RandomUnderSampler,NearMiss,CondensedNearestNeighbour,EditedNearestNeighbours\n",
    "from imblearn.combine import SMOTEENN,SMOTETomek\n",
    "from sklearn.model_selection import KFold, train_test_split\n",
    "from imblearn.ensemble import EasyEnsemble\n",
    "from sklearn.ensemble import BaggingClassifier,VotingClassifier\n",
    "from imblearn.ensemble import BalancedBaggingClassifier\n",
    "from catboost import CatBoostClassifier\n",
    "import lightgbm as lgb\n",
    "import plotly\n",
    "import plotly.offline as pyoff\n",
    "import plotly.figure_factory as ff\n",
    "from plotly.offline import init_notebook_mode, iplot, plot\n",
    "import plotly.graph_objs as go\n",
    "import squarify # for tree maps"
   ]
  },
  {
   "cell_type": "markdown",
   "metadata": {},
   "source": [
    "## Setting the path/Working directory"
   ]
  },
  {
   "cell_type": "code",
   "execution_count": 19,
   "metadata": {},
   "outputs": [],
   "source": [
    "os.getcwd()\n",
    "os.chdir(\"D:\\\\Insofe Cute\\\\CSE7305c_CUTe_ProblemDescription_and_Dataset-1550549022184\\\\CSE7305c_CUTe_ProblemDescription_and_Dataset\")"
   ]
  },
  {
   "cell_type": "markdown",
   "metadata": {},
   "source": [
    "## Reading the data into a Dataframe"
   ]
  },
  {
   "cell_type": "code",
   "execution_count": 20,
   "metadata": {},
   "outputs": [],
   "source": [
    "data = pd.read_csv(\"train.csv\",na_values=[\"NA\",\" \",\"\",\"?\"])"
   ]
  },
  {
   "cell_type": "code",
   "execution_count": 21,
   "metadata": {},
   "outputs": [],
   "source": [
    "x_trn = pd.read_csv(\"test.csv\",na_values=[\"NA\",\" \",\"\",\"?\"])"
   ]
  },
  {
   "cell_type": "markdown",
   "metadata": {},
   "source": [
    "## Summary and stays of the data"
   ]
  },
  {
   "cell_type": "code",
   "execution_count": 22,
   "metadata": {},
   "outputs": [
    {
     "data": {
      "text/html": [
       "<div>\n",
       "<style scoped>\n",
       "    .dataframe tbody tr th:only-of-type {\n",
       "        vertical-align: middle;\n",
       "    }\n",
       "\n",
       "    .dataframe tbody tr th {\n",
       "        vertical-align: top;\n",
       "    }\n",
       "\n",
       "    .dataframe thead th {\n",
       "        text-align: right;\n",
       "    }\n",
       "</style>\n",
       "<table border=\"1\" class=\"dataframe\">\n",
       "  <thead>\n",
       "    <tr style=\"text-align: right;\">\n",
       "      <th></th>\n",
       "      <th>ID</th>\n",
       "      <th>Attr1</th>\n",
       "      <th>Attr2</th>\n",
       "      <th>Attr3</th>\n",
       "      <th>Attr4</th>\n",
       "      <th>Attr5</th>\n",
       "      <th>Attr6</th>\n",
       "      <th>Attr7</th>\n",
       "      <th>Attr8</th>\n",
       "      <th>Attr9</th>\n",
       "      <th>...</th>\n",
       "      <th>Attr56</th>\n",
       "      <th>Attr57</th>\n",
       "      <th>Attr58</th>\n",
       "      <th>Attr59</th>\n",
       "      <th>Attr60</th>\n",
       "      <th>Attr61</th>\n",
       "      <th>Attr62</th>\n",
       "      <th>Attr63</th>\n",
       "      <th>Attr64</th>\n",
       "      <th>target</th>\n",
       "    </tr>\n",
       "  </thead>\n",
       "  <tbody>\n",
       "    <tr>\n",
       "      <th>count</th>\n",
       "      <td>31283.000000</td>\n",
       "      <td>31276.000000</td>\n",
       "      <td>31276.000000</td>\n",
       "      <td>31276.000000</td>\n",
       "      <td>31181.000000</td>\n",
       "      <td>3.122000e+04</td>\n",
       "      <td>31276.000000</td>\n",
       "      <td>31276.000000</td>\n",
       "      <td>31210.000000</td>\n",
       "      <td>31279.000000</td>\n",
       "      <td>...</td>\n",
       "      <td>3.118200e+04</td>\n",
       "      <td>31277.000000</td>\n",
       "      <td>3.121500e+04</td>\n",
       "      <td>31277.000000</td>\n",
       "      <td>2.971300e+04</td>\n",
       "      <td>31210.000000</td>\n",
       "      <td>3.118200e+04</td>\n",
       "      <td>31181.000000</td>\n",
       "      <td>30682.000000</td>\n",
       "      <td>31283.000000</td>\n",
       "    </tr>\n",
       "    <tr>\n",
       "      <th>mean</th>\n",
       "      <td>15642.000000</td>\n",
       "      <td>0.051612</td>\n",
       "      <td>0.551159</td>\n",
       "      <td>0.151249</td>\n",
       "      <td>7.321993</td>\n",
       "      <td>-1.706215e+02</td>\n",
       "      <td>-0.011735</td>\n",
       "      <td>0.120577</td>\n",
       "      <td>14.379693</td>\n",
       "      <td>2.783840</td>\n",
       "      <td>...</td>\n",
       "      <td>-3.637422e+01</td>\n",
       "      <td>-0.007774</td>\n",
       "      <td>4.067219e+01</td>\n",
       "      <td>1.677983</td>\n",
       "      <td>5.462892e+02</td>\n",
       "      <td>15.227988</td>\n",
       "      <td>1.640595e+03</td>\n",
       "      <td>9.656775</td>\n",
       "      <td>81.529420</td>\n",
       "      <td>0.048301</td>\n",
       "    </tr>\n",
       "    <tr>\n",
       "      <th>std</th>\n",
       "      <td>9030.768572</td>\n",
       "      <td>1.748230</td>\n",
       "      <td>4.510523</td>\n",
       "      <td>3.754494</td>\n",
       "      <td>347.736044</td>\n",
       "      <td>2.392279e+04</td>\n",
       "      <td>5.489446</td>\n",
       "      <td>6.045041</td>\n",
       "      <td>562.011982</td>\n",
       "      <td>69.973455</td>\n",
       "      <td>...</td>\n",
       "      <td>6.276744e+03</td>\n",
       "      <td>13.989982</td>\n",
       "      <td>6.283661e+03</td>\n",
       "      <td>143.470467</td>\n",
       "      <td>3.792399e+04</td>\n",
       "      <td>219.335078</td>\n",
       "      <td>1.515043e+05</td>\n",
       "      <td>142.374215</td>\n",
       "      <td>2726.762529</td>\n",
       "      <td>0.214405</td>\n",
       "    </tr>\n",
       "    <tr>\n",
       "      <th>min</th>\n",
       "      <td>1.000000</td>\n",
       "      <td>-256.890000</td>\n",
       "      <td>-430.870000</td>\n",
       "      <td>-479.730000</td>\n",
       "      <td>-0.045319</td>\n",
       "      <td>-2.722100e+06</td>\n",
       "      <td>-508.120000</td>\n",
       "      <td>-517.480000</td>\n",
       "      <td>-15.236000</td>\n",
       "      <td>-3.496000</td>\n",
       "      <td>...</td>\n",
       "      <td>-1.108300e+06</td>\n",
       "      <td>-1667.300000</td>\n",
       "      <td>-1.986900e+02</td>\n",
       "      <td>-327.970000</td>\n",
       "      <td>-1.244000e+01</td>\n",
       "      <td>-6.590300</td>\n",
       "      <td>-1.496500e+04</td>\n",
       "      <td>-0.367890</td>\n",
       "      <td>-3.726500</td>\n",
       "      <td>0.000000</td>\n",
       "    </tr>\n",
       "    <tr>\n",
       "      <th>25%</th>\n",
       "      <td>7821.500000</td>\n",
       "      <td>0.003360</td>\n",
       "      <td>0.269397</td>\n",
       "      <td>0.022146</td>\n",
       "      <td>1.051000</td>\n",
       "      <td>-4.845300e+01</td>\n",
       "      <td>0.000000</td>\n",
       "      <td>0.005758</td>\n",
       "      <td>0.428970</td>\n",
       "      <td>1.018100</td>\n",
       "      <td>...</td>\n",
       "      <td>8.919150e-03</td>\n",
       "      <td>0.014690</td>\n",
       "      <td>8.751350e-01</td>\n",
       "      <td>0.000000</td>\n",
       "      <td>5.533000e+00</td>\n",
       "      <td>4.523400</td>\n",
       "      <td>4.205425e+01</td>\n",
       "      <td>3.099200</td>\n",
       "      <td>2.180375</td>\n",
       "      <td>0.000000</td>\n",
       "    </tr>\n",
       "    <tr>\n",
       "      <th>50%</th>\n",
       "      <td>15642.000000</td>\n",
       "      <td>0.049686</td>\n",
       "      <td>0.472685</td>\n",
       "      <td>0.196770</td>\n",
       "      <td>1.571000</td>\n",
       "      <td>-7.813950e-01</td>\n",
       "      <td>0.000000</td>\n",
       "      <td>0.059707</td>\n",
       "      <td>1.068650</td>\n",
       "      <td>1.196700</td>\n",
       "      <td>...</td>\n",
       "      <td>5.306150e-02</td>\n",
       "      <td>0.120460</td>\n",
       "      <td>9.507600e-01</td>\n",
       "      <td>0.005453</td>\n",
       "      <td>9.763000e+00</td>\n",
       "      <td>6.652750</td>\n",
       "      <td>7.120750e+01</td>\n",
       "      <td>5.090700</td>\n",
       "      <td>4.289950</td>\n",
       "      <td>0.000000</td>\n",
       "    </tr>\n",
       "    <tr>\n",
       "      <th>75%</th>\n",
       "      <td>23462.500000</td>\n",
       "      <td>0.130523</td>\n",
       "      <td>0.689240</td>\n",
       "      <td>0.403983</td>\n",
       "      <td>2.797800</td>\n",
       "      <td>5.076850e+01</td>\n",
       "      <td>0.087633</td>\n",
       "      <td>0.151895</td>\n",
       "      <td>2.606850</td>\n",
       "      <td>2.060550</td>\n",
       "      <td>...</td>\n",
       "      <td>1.294750e-01</td>\n",
       "      <td>0.286740</td>\n",
       "      <td>9.927900e-01</td>\n",
       "      <td>0.234840</td>\n",
       "      <td>2.014500e+01</td>\n",
       "      <td>10.417750</td>\n",
       "      <td>1.170400e+02</td>\n",
       "      <td>8.618600</td>\n",
       "      <td>9.788950</td>\n",
       "      <td>0.000000</td>\n",
       "    </tr>\n",
       "    <tr>\n",
       "      <th>max</th>\n",
       "      <td>31283.000000</td>\n",
       "      <td>94.280000</td>\n",
       "      <td>480.730000</td>\n",
       "      <td>28.336000</td>\n",
       "      <td>53433.000000</td>\n",
       "      <td>1.034100e+06</td>\n",
       "      <td>543.250000</td>\n",
       "      <td>649.230000</td>\n",
       "      <td>53432.000000</td>\n",
       "      <td>9742.300000</td>\n",
       "      <td>...</td>\n",
       "      <td>1.120200e+02</td>\n",
       "      <td>552.640000</td>\n",
       "      <td>1.108300e+06</td>\n",
       "      <td>23853.000000</td>\n",
       "      <td>4.818700e+06</td>\n",
       "      <td>26862.000000</td>\n",
       "      <td>2.501600e+07</td>\n",
       "      <td>23454.000000</td>\n",
       "      <td>294770.000000</td>\n",
       "      <td>1.000000</td>\n",
       "    </tr>\n",
       "  </tbody>\n",
       "</table>\n",
       "<p>8 rows × 66 columns</p>\n",
       "</div>"
      ],
      "text/plain": [
       "                 ID         Attr1         Attr2         Attr3         Attr4  \\\n",
       "count  31283.000000  31276.000000  31276.000000  31276.000000  31181.000000   \n",
       "mean   15642.000000      0.051612      0.551159      0.151249      7.321993   \n",
       "std     9030.768572      1.748230      4.510523      3.754494    347.736044   \n",
       "min        1.000000   -256.890000   -430.870000   -479.730000     -0.045319   \n",
       "25%     7821.500000      0.003360      0.269397      0.022146      1.051000   \n",
       "50%    15642.000000      0.049686      0.472685      0.196770      1.571000   \n",
       "75%    23462.500000      0.130523      0.689240      0.403983      2.797800   \n",
       "max    31283.000000     94.280000    480.730000     28.336000  53433.000000   \n",
       "\n",
       "              Attr5         Attr6         Attr7         Attr8         Attr9  \\\n",
       "count  3.122000e+04  31276.000000  31276.000000  31210.000000  31279.000000   \n",
       "mean  -1.706215e+02     -0.011735      0.120577     14.379693      2.783840   \n",
       "std    2.392279e+04      5.489446      6.045041    562.011982     69.973455   \n",
       "min   -2.722100e+06   -508.120000   -517.480000    -15.236000     -3.496000   \n",
       "25%   -4.845300e+01      0.000000      0.005758      0.428970      1.018100   \n",
       "50%   -7.813950e-01      0.000000      0.059707      1.068650      1.196700   \n",
       "75%    5.076850e+01      0.087633      0.151895      2.606850      2.060550   \n",
       "max    1.034100e+06    543.250000    649.230000  53432.000000   9742.300000   \n",
       "\n",
       "           ...             Attr56        Attr57        Attr58        Attr59  \\\n",
       "count      ...       3.118200e+04  31277.000000  3.121500e+04  31277.000000   \n",
       "mean       ...      -3.637422e+01     -0.007774  4.067219e+01      1.677983   \n",
       "std        ...       6.276744e+03     13.989982  6.283661e+03    143.470467   \n",
       "min        ...      -1.108300e+06  -1667.300000 -1.986900e+02   -327.970000   \n",
       "25%        ...       8.919150e-03      0.014690  8.751350e-01      0.000000   \n",
       "50%        ...       5.306150e-02      0.120460  9.507600e-01      0.005453   \n",
       "75%        ...       1.294750e-01      0.286740  9.927900e-01      0.234840   \n",
       "max        ...       1.120200e+02    552.640000  1.108300e+06  23853.000000   \n",
       "\n",
       "             Attr60        Attr61        Attr62        Attr63         Attr64  \\\n",
       "count  2.971300e+04  31210.000000  3.118200e+04  31181.000000   30682.000000   \n",
       "mean   5.462892e+02     15.227988  1.640595e+03      9.656775      81.529420   \n",
       "std    3.792399e+04    219.335078  1.515043e+05    142.374215    2726.762529   \n",
       "min   -1.244000e+01     -6.590300 -1.496500e+04     -0.367890      -3.726500   \n",
       "25%    5.533000e+00      4.523400  4.205425e+01      3.099200       2.180375   \n",
       "50%    9.763000e+00      6.652750  7.120750e+01      5.090700       4.289950   \n",
       "75%    2.014500e+01     10.417750  1.170400e+02      8.618600       9.788950   \n",
       "max    4.818700e+06  26862.000000  2.501600e+07  23454.000000  294770.000000   \n",
       "\n",
       "             target  \n",
       "count  31283.000000  \n",
       "mean       0.048301  \n",
       "std        0.214405  \n",
       "min        0.000000  \n",
       "25%        0.000000  \n",
       "50%        0.000000  \n",
       "75%        0.000000  \n",
       "max        1.000000  \n",
       "\n",
       "[8 rows x 66 columns]"
      ]
     },
     "execution_count": 22,
     "metadata": {},
     "output_type": "execute_result"
    }
   ],
   "source": [
    "data.describe(include=\"all\")"
   ]
  },
  {
   "cell_type": "code",
   "execution_count": 23,
   "metadata": {},
   "outputs": [
    {
     "data": {
      "text/html": [
       "<div>\n",
       "<style scoped>\n",
       "    .dataframe tbody tr th:only-of-type {\n",
       "        vertical-align: middle;\n",
       "    }\n",
       "\n",
       "    .dataframe tbody tr th {\n",
       "        vertical-align: top;\n",
       "    }\n",
       "\n",
       "    .dataframe thead th {\n",
       "        text-align: right;\n",
       "    }\n",
       "</style>\n",
       "<table border=\"1\" class=\"dataframe\">\n",
       "  <thead>\n",
       "    <tr style=\"text-align: right;\">\n",
       "      <th></th>\n",
       "      <th>ID</th>\n",
       "      <th>Attr1</th>\n",
       "      <th>Attr2</th>\n",
       "      <th>Attr3</th>\n",
       "      <th>Attr4</th>\n",
       "      <th>Attr5</th>\n",
       "      <th>Attr6</th>\n",
       "      <th>Attr7</th>\n",
       "      <th>Attr8</th>\n",
       "      <th>Attr9</th>\n",
       "      <th>...</th>\n",
       "      <th>Attr55</th>\n",
       "      <th>Attr56</th>\n",
       "      <th>Attr57</th>\n",
       "      <th>Attr58</th>\n",
       "      <th>Attr59</th>\n",
       "      <th>Attr60</th>\n",
       "      <th>Attr61</th>\n",
       "      <th>Attr62</th>\n",
       "      <th>Attr63</th>\n",
       "      <th>Attr64</th>\n",
       "    </tr>\n",
       "  </thead>\n",
       "  <tbody>\n",
       "    <tr>\n",
       "      <th>count</th>\n",
       "      <td>6451.000000</td>\n",
       "      <td>6451.000000</td>\n",
       "      <td>6451.000000</td>\n",
       "      <td>6451.000000</td>\n",
       "      <td>6429.000000</td>\n",
       "      <td>6.438000e+03</td>\n",
       "      <td>6451.000000</td>\n",
       "      <td>6451.000000</td>\n",
       "      <td>6437.000000</td>\n",
       "      <td>6449.000000</td>\n",
       "      <td>...</td>\n",
       "      <td>6.450000e+03</td>\n",
       "      <td>6439.000000</td>\n",
       "      <td>6451.000000</td>\n",
       "      <td>6445.000000</td>\n",
       "      <td>6451.000000</td>\n",
       "      <td>6146.000000</td>\n",
       "      <td>6436.000000</td>\n",
       "      <td>6.439000e+03</td>\n",
       "      <td>6429.000000</td>\n",
       "      <td>6341.000000</td>\n",
       "    </tr>\n",
       "    <tr>\n",
       "      <th>mean</th>\n",
       "      <td>39779.000000</td>\n",
       "      <td>-0.019729</td>\n",
       "      <td>0.671916</td>\n",
       "      <td>0.035850</td>\n",
       "      <td>3.540007</td>\n",
       "      <td>1.585019e+02</td>\n",
       "      <td>-0.208878</td>\n",
       "      <td>0.000546</td>\n",
       "      <td>7.062295</td>\n",
       "      <td>2.007925</td>\n",
       "      <td>...</td>\n",
       "      <td>6.088847e+03</td>\n",
       "      <td>0.023130</td>\n",
       "      <td>0.034450</td>\n",
       "      <td>3.932018</td>\n",
       "      <td>0.530441</td>\n",
       "      <td>283.327769</td>\n",
       "      <td>13.902278</td>\n",
       "      <td>-4.418735e+01</td>\n",
       "      <td>9.092290</td>\n",
       "      <td>46.106849</td>\n",
       "    </tr>\n",
       "    <tr>\n",
       "      <th>std</th>\n",
       "      <td>1862.387625</td>\n",
       "      <td>5.853072</td>\n",
       "      <td>7.881294</td>\n",
       "      <td>7.877168</td>\n",
       "      <td>20.957010</td>\n",
       "      <td>2.054143e+04</td>\n",
       "      <td>10.400030</td>\n",
       "      <td>5.873490</td>\n",
       "      <td>230.439886</td>\n",
       "      <td>21.260431</td>\n",
       "      <td>...</td>\n",
       "      <td>4.220430e+04</td>\n",
       "      <td>7.049784</td>\n",
       "      <td>8.066195</td>\n",
       "      <td>197.802787</td>\n",
       "      <td>21.750395</td>\n",
       "      <td>8061.380944</td>\n",
       "      <td>107.694529</td>\n",
       "      <td>3.018073e+04</td>\n",
       "      <td>72.770389</td>\n",
       "      <td>742.918601</td>\n",
       "    </tr>\n",
       "    <tr>\n",
       "      <th>min</th>\n",
       "      <td>36554.000000</td>\n",
       "      <td>-463.890000</td>\n",
       "      <td>0.000000</td>\n",
       "      <td>-445.910000</td>\n",
       "      <td>-0.403110</td>\n",
       "      <td>-6.341400e+05</td>\n",
       "      <td>-486.820000</td>\n",
       "      <td>-463.890000</td>\n",
       "      <td>-3.735100</td>\n",
       "      <td>-0.612590</td>\n",
       "      <td>...</td>\n",
       "      <td>-4.928300e+05</td>\n",
       "      <td>-477.080000</td>\n",
       "      <td>-469.050000</td>\n",
       "      <td>-1.632400</td>\n",
       "      <td>-152.090000</td>\n",
       "      <td>0.000000</td>\n",
       "      <td>-0.014534</td>\n",
       "      <td>-2.336500e+06</td>\n",
       "      <td>-1.543200</td>\n",
       "      <td>-10677.000000</td>\n",
       "    </tr>\n",
       "    <tr>\n",
       "      <th>25%</th>\n",
       "      <td>38166.500000</td>\n",
       "      <td>0.003772</td>\n",
       "      <td>0.271310</td>\n",
       "      <td>0.017369</td>\n",
       "      <td>1.038700</td>\n",
       "      <td>-4.988150e+01</td>\n",
       "      <td>0.000000</td>\n",
       "      <td>0.005991</td>\n",
       "      <td>0.427480</td>\n",
       "      <td>1.019700</td>\n",
       "      <td>...</td>\n",
       "      <td>1.958850e+01</td>\n",
       "      <td>0.009892</td>\n",
       "      <td>0.015050</td>\n",
       "      <td>0.878160</td>\n",
       "      <td>0.000000</td>\n",
       "      <td>5.680450</td>\n",
       "      <td>4.549600</td>\n",
       "      <td>4.182800e+01</td>\n",
       "      <td>3.109900</td>\n",
       "      <td>2.166400</td>\n",
       "    </tr>\n",
       "    <tr>\n",
       "      <th>50%</th>\n",
       "      <td>39779.000000</td>\n",
       "      <td>0.050048</td>\n",
       "      <td>0.471450</td>\n",
       "      <td>0.194430</td>\n",
       "      <td>1.558600</td>\n",
       "      <td>-1.428250e+00</td>\n",
       "      <td>0.000000</td>\n",
       "      <td>0.059782</td>\n",
       "      <td>1.058700</td>\n",
       "      <td>1.192800</td>\n",
       "      <td>...</td>\n",
       "      <td>1.098150e+03</td>\n",
       "      <td>0.052082</td>\n",
       "      <td>0.117930</td>\n",
       "      <td>0.951960</td>\n",
       "      <td>0.009292</td>\n",
       "      <td>10.058000</td>\n",
       "      <td>6.719050</td>\n",
       "      <td>7.049000e+01</td>\n",
       "      <td>5.145700</td>\n",
       "      <td>4.297500</td>\n",
       "    </tr>\n",
       "    <tr>\n",
       "      <th>75%</th>\n",
       "      <td>41391.500000</td>\n",
       "      <td>0.127275</td>\n",
       "      <td>0.687835</td>\n",
       "      <td>0.395880</td>\n",
       "      <td>2.737500</td>\n",
       "      <td>4.848250e+01</td>\n",
       "      <td>0.093908</td>\n",
       "      <td>0.147620</td>\n",
       "      <td>2.589000</td>\n",
       "      <td>2.104000</td>\n",
       "      <td>...</td>\n",
       "      <td>4.880725e+03</td>\n",
       "      <td>0.124810</td>\n",
       "      <td>0.282195</td>\n",
       "      <td>0.992470</td>\n",
       "      <td>0.249175</td>\n",
       "      <td>20.720250</td>\n",
       "      <td>10.660000</td>\n",
       "      <td>1.168050e+02</td>\n",
       "      <td>8.633600</td>\n",
       "      <td>10.024000</td>\n",
       "    </tr>\n",
       "    <tr>\n",
       "      <th>max</th>\n",
       "      <td>43004.000000</td>\n",
       "      <td>20.482000</td>\n",
       "      <td>446.910000</td>\n",
       "      <td>17.708000</td>\n",
       "      <td>1017.800000</td>\n",
       "      <td>1.250100e+06</td>\n",
       "      <td>244.310000</td>\n",
       "      <td>38.618000</td>\n",
       "      <td>18148.000000</td>\n",
       "      <td>1704.800000</td>\n",
       "      <td>...</td>\n",
       "      <td>1.634200e+06</td>\n",
       "      <td>293.150000</td>\n",
       "      <td>147.190000</td>\n",
       "      <td>15459.000000</td>\n",
       "      <td>1661.000000</td>\n",
       "      <td>457320.000000</td>\n",
       "      <td>7123.000000</td>\n",
       "      <td>4.513800e+05</td>\n",
       "      <td>5662.400000</td>\n",
       "      <td>28999.000000</td>\n",
       "    </tr>\n",
       "  </tbody>\n",
       "</table>\n",
       "<p>8 rows × 65 columns</p>\n",
       "</div>"
      ],
      "text/plain": [
       "                 ID        Attr1        Attr2        Attr3        Attr4  \\\n",
       "count   6451.000000  6451.000000  6451.000000  6451.000000  6429.000000   \n",
       "mean   39779.000000    -0.019729     0.671916     0.035850     3.540007   \n",
       "std     1862.387625     5.853072     7.881294     7.877168    20.957010   \n",
       "min    36554.000000  -463.890000     0.000000  -445.910000    -0.403110   \n",
       "25%    38166.500000     0.003772     0.271310     0.017369     1.038700   \n",
       "50%    39779.000000     0.050048     0.471450     0.194430     1.558600   \n",
       "75%    41391.500000     0.127275     0.687835     0.395880     2.737500   \n",
       "max    43004.000000    20.482000   446.910000    17.708000  1017.800000   \n",
       "\n",
       "              Attr5        Attr6        Attr7         Attr8        Attr9  \\\n",
       "count  6.438000e+03  6451.000000  6451.000000   6437.000000  6449.000000   \n",
       "mean   1.585019e+02    -0.208878     0.000546      7.062295     2.007925   \n",
       "std    2.054143e+04    10.400030     5.873490    230.439886    21.260431   \n",
       "min   -6.341400e+05  -486.820000  -463.890000     -3.735100    -0.612590   \n",
       "25%   -4.988150e+01     0.000000     0.005991      0.427480     1.019700   \n",
       "50%   -1.428250e+00     0.000000     0.059782      1.058700     1.192800   \n",
       "75%    4.848250e+01     0.093908     0.147620      2.589000     2.104000   \n",
       "max    1.250100e+06   244.310000    38.618000  18148.000000  1704.800000   \n",
       "\n",
       "           ...             Attr55       Attr56       Attr57        Attr58  \\\n",
       "count      ...       6.450000e+03  6439.000000  6451.000000   6445.000000   \n",
       "mean       ...       6.088847e+03     0.023130     0.034450      3.932018   \n",
       "std        ...       4.220430e+04     7.049784     8.066195    197.802787   \n",
       "min        ...      -4.928300e+05  -477.080000  -469.050000     -1.632400   \n",
       "25%        ...       1.958850e+01     0.009892     0.015050      0.878160   \n",
       "50%        ...       1.098150e+03     0.052082     0.117930      0.951960   \n",
       "75%        ...       4.880725e+03     0.124810     0.282195      0.992470   \n",
       "max        ...       1.634200e+06   293.150000   147.190000  15459.000000   \n",
       "\n",
       "            Attr59         Attr60       Attr61        Attr62       Attr63  \\\n",
       "count  6451.000000    6146.000000  6436.000000  6.439000e+03  6429.000000   \n",
       "mean      0.530441     283.327769    13.902278 -4.418735e+01     9.092290   \n",
       "std      21.750395    8061.380944   107.694529  3.018073e+04    72.770389   \n",
       "min    -152.090000       0.000000    -0.014534 -2.336500e+06    -1.543200   \n",
       "25%       0.000000       5.680450     4.549600  4.182800e+01     3.109900   \n",
       "50%       0.009292      10.058000     6.719050  7.049000e+01     5.145700   \n",
       "75%       0.249175      20.720250    10.660000  1.168050e+02     8.633600   \n",
       "max    1661.000000  457320.000000  7123.000000  4.513800e+05  5662.400000   \n",
       "\n",
       "             Attr64  \n",
       "count   6341.000000  \n",
       "mean      46.106849  \n",
       "std      742.918601  \n",
       "min   -10677.000000  \n",
       "25%        2.166400  \n",
       "50%        4.297500  \n",
       "75%       10.024000  \n",
       "max    28999.000000  \n",
       "\n",
       "[8 rows x 65 columns]"
      ]
     },
     "execution_count": 23,
     "metadata": {},
     "output_type": "execute_result"
    }
   ],
   "source": [
    "x_trn.describe(include=\"all\")"
   ]
  },
  {
   "cell_type": "code",
   "execution_count": 24,
   "metadata": {},
   "outputs": [
    {
     "data": {
      "text/plain": [
       "(31283, 66)"
      ]
     },
     "execution_count": 24,
     "metadata": {},
     "output_type": "execute_result"
    }
   ],
   "source": [
    "data.shape"
   ]
  },
  {
   "cell_type": "code",
   "execution_count": 25,
   "metadata": {},
   "outputs": [
    {
     "data": {
      "text/plain": [
       "(6451, 65)"
      ]
     },
     "execution_count": 25,
     "metadata": {},
     "output_type": "execute_result"
    }
   ],
   "source": [
    "x_trn.shape"
   ]
  },
  {
   "cell_type": "code",
   "execution_count": 26,
   "metadata": {},
   "outputs": [
    {
     "data": {
      "text/plain": [
       "66"
      ]
     },
     "execution_count": 26,
     "metadata": {},
     "output_type": "execute_result"
    }
   ],
   "source": [
    "data.columns.value_counts().sum()"
   ]
  },
  {
   "cell_type": "code",
   "execution_count": 27,
   "metadata": {},
   "outputs": [
    {
     "data": {
      "text/plain": [
       "65"
      ]
     },
     "execution_count": 27,
     "metadata": {},
     "output_type": "execute_result"
    }
   ],
   "source": [
    "x_trn.columns.value_counts().sum()"
   ]
  },
  {
   "cell_type": "code",
   "execution_count": 28,
   "metadata": {
    "scrolled": true
   },
   "outputs": [
    {
     "data": {
      "text/plain": [
       "ID          int64\n",
       "Attr1     float64\n",
       "Attr2     float64\n",
       "Attr3     float64\n",
       "Attr4     float64\n",
       "Attr5     float64\n",
       "Attr6     float64\n",
       "Attr7     float64\n",
       "Attr8     float64\n",
       "Attr9     float64\n",
       "Attr10    float64\n",
       "Attr11    float64\n",
       "Attr12    float64\n",
       "Attr13    float64\n",
       "Attr14    float64\n",
       "Attr15    float64\n",
       "Attr16    float64\n",
       "Attr17    float64\n",
       "Attr18    float64\n",
       "Attr19    float64\n",
       "Attr20    float64\n",
       "Attr21    float64\n",
       "Attr22    float64\n",
       "Attr23    float64\n",
       "Attr24    float64\n",
       "Attr25    float64\n",
       "Attr26    float64\n",
       "Attr27    float64\n",
       "Attr28    float64\n",
       "Attr29    float64\n",
       "           ...   \n",
       "Attr36    float64\n",
       "Attr37    float64\n",
       "Attr38    float64\n",
       "Attr39    float64\n",
       "Attr40    float64\n",
       "Attr41    float64\n",
       "Attr42    float64\n",
       "Attr43    float64\n",
       "Attr44    float64\n",
       "Attr45    float64\n",
       "Attr46    float64\n",
       "Attr47    float64\n",
       "Attr48    float64\n",
       "Attr49    float64\n",
       "Attr50    float64\n",
       "Attr51    float64\n",
       "Attr52    float64\n",
       "Attr53    float64\n",
       "Attr54    float64\n",
       "Attr55    float64\n",
       "Attr56    float64\n",
       "Attr57    float64\n",
       "Attr58    float64\n",
       "Attr59    float64\n",
       "Attr60    float64\n",
       "Attr61    float64\n",
       "Attr62    float64\n",
       "Attr63    float64\n",
       "Attr64    float64\n",
       "target      int64\n",
       "Length: 66, dtype: object"
      ]
     },
     "execution_count": 28,
     "metadata": {},
     "output_type": "execute_result"
    }
   ],
   "source": [
    "data.dtypes"
   ]
  },
  {
   "cell_type": "code",
   "execution_count": 29,
   "metadata": {
    "scrolled": true
   },
   "outputs": [
    {
     "data": {
      "text/plain": [
       "ID          int64\n",
       "Attr1     float64\n",
       "Attr2     float64\n",
       "Attr3     float64\n",
       "Attr4     float64\n",
       "Attr5     float64\n",
       "Attr6     float64\n",
       "Attr7     float64\n",
       "Attr8     float64\n",
       "Attr9     float64\n",
       "Attr10    float64\n",
       "Attr11    float64\n",
       "Attr12    float64\n",
       "Attr13    float64\n",
       "Attr14    float64\n",
       "Attr15    float64\n",
       "Attr16    float64\n",
       "Attr17    float64\n",
       "Attr18    float64\n",
       "Attr19    float64\n",
       "Attr20    float64\n",
       "Attr21    float64\n",
       "Attr22    float64\n",
       "Attr23    float64\n",
       "Attr24    float64\n",
       "Attr25    float64\n",
       "Attr26    float64\n",
       "Attr27    float64\n",
       "Attr28    float64\n",
       "Attr29    float64\n",
       "           ...   \n",
       "Attr35    float64\n",
       "Attr36    float64\n",
       "Attr37    float64\n",
       "Attr38    float64\n",
       "Attr39    float64\n",
       "Attr40    float64\n",
       "Attr41    float64\n",
       "Attr42    float64\n",
       "Attr43    float64\n",
       "Attr44    float64\n",
       "Attr45    float64\n",
       "Attr46    float64\n",
       "Attr47    float64\n",
       "Attr48    float64\n",
       "Attr49    float64\n",
       "Attr50    float64\n",
       "Attr51    float64\n",
       "Attr52    float64\n",
       "Attr53    float64\n",
       "Attr54    float64\n",
       "Attr55    float64\n",
       "Attr56    float64\n",
       "Attr57    float64\n",
       "Attr58    float64\n",
       "Attr59    float64\n",
       "Attr60    float64\n",
       "Attr61    float64\n",
       "Attr62    float64\n",
       "Attr63    float64\n",
       "Attr64    float64\n",
       "Length: 65, dtype: object"
      ]
     },
     "execution_count": 29,
     "metadata": {},
     "output_type": "execute_result"
    }
   ],
   "source": [
    "x_trn.dtypes"
   ]
  },
  {
   "cell_type": "code",
   "execution_count": 30,
   "metadata": {},
   "outputs": [
    {
     "data": {
      "text/plain": [
       "RangeIndex(start=0, stop=31283, step=1)"
      ]
     },
     "execution_count": 30,
     "metadata": {},
     "output_type": "execute_result"
    }
   ],
   "source": [
    "data.index"
   ]
  },
  {
   "cell_type": "code",
   "execution_count": 31,
   "metadata": {},
   "outputs": [],
   "source": [
    "num_attr = data.select_dtypes(include=['float64','int64']).columns\n",
    "num_attr = num_attr[1:64]"
   ]
  },
  {
   "cell_type": "markdown",
   "metadata": {},
   "source": [
    "## Removing the outliers"
   ]
  },
  {
   "cell_type": "markdown",
   "metadata": {},
   "source": [
    "### Found the outliers using R ):"
   ]
  },
  {
   "cell_type": "code",
   "execution_count": 32,
   "metadata": {},
   "outputs": [],
   "source": [
    "data.drop([1774,11095,12118,22626,27494,12472,12472,17236,19153,1026],inplace = True , axis = 0)"
   ]
  },
  {
   "cell_type": "code",
   "execution_count": 33,
   "metadata": {},
   "outputs": [
    {
     "data": {
      "text/html": [
       "<script type=\"text/javascript\">window.PlotlyConfig = {MathJaxConfig: 'local'};</script><script type=\"text/javascript\">if (window.MathJax) {MathJax.Hub.Config({SVG: {font: \"STIX-Web\"}});}</script><script>requirejs.config({paths: { 'plotly': ['https://cdn.plot.ly/plotly-latest.min']},});if(!window._Plotly) {require(['plotly'],function(plotly) {window._Plotly=plotly;});}</script>"
      ],
      "text/vnd.plotly.v1+html": [
       "<script type=\"text/javascript\">window.PlotlyConfig = {MathJaxConfig: 'local'};</script><script type=\"text/javascript\">if (window.MathJax) {MathJax.Hub.Config({SVG: {font: \"STIX-Web\"}});}</script><script>requirejs.config({paths: { 'plotly': ['https://cdn.plot.ly/plotly-latest.min']},});if(!window._Plotly) {require(['plotly'],function(plotly) {window._Plotly=plotly;});}</script>"
      ]
     },
     "metadata": {},
     "output_type": "display_data"
    }
   ],
   "source": [
    "init_notebook_mode(connected=True)"
   ]
  },
  {
   "cell_type": "code",
   "execution_count": 34,
   "metadata": {},
   "outputs": [
    {
     "data": {
      "application/vnd.plotly.v1+json": {
       "config": {
        "linkText": "Export to plot.ly",
        "plotlyServerURL": "https://plot.ly",
        "showLink": false
       },
       "data": [
        {
         "name": "Attrition",
         "text": [
          0.95,
          0.05
         ],
         "textposition": "auto",
         "type": "bar",
         "uid": "5e71e5c0-26b3-41c7-928a-598837c6b2cb",
         "x": [
          0,
          1
         ],
         "y": [
          0.95,
          0.05
         ]
        }
       ],
       "layout": {
        "autosize": false,
        "height": 400,
        "title": {
         "text": "Bankruptcy Distribution"
        },
        "width": 600
       }
      },
      "text/html": [
       "<div id=\"6681fa61-609f-4176-8e90-2370faab7363\" style=\"height: 400px; width: 600px;\" class=\"plotly-graph-div\"></div><script type=\"text/javascript\">require([\"plotly\"], function(Plotly) { window.PLOTLYENV=window.PLOTLYENV || {};window.PLOTLYENV.BASE_URL=\"https://plot.ly\";Plotly.newPlot(\"6681fa61-609f-4176-8e90-2370faab7363\", [{\"name\": \"Attrition\", \"text\": [0.95, 0.05], \"textposition\": \"auto\", \"x\": [0, 1], \"y\": [0.95, 0.05], \"type\": \"bar\", \"uid\": \"5e71e5c0-26b3-41c7-928a-598837c6b2cb\"}], {\"autosize\": false, \"height\": 400, \"title\": {\"text\": \"Bankruptcy Distribution\"}, \"width\": 600}, {\"showLink\": false, \"linkText\": \"Export to plot.ly\", \"plotlyServerURL\": \"https://plot.ly\"})});</script>"
      ],
      "text/vnd.plotly.v1+html": [
       "<div id=\"6681fa61-609f-4176-8e90-2370faab7363\" style=\"height: 400px; width: 600px;\" class=\"plotly-graph-div\"></div><script type=\"text/javascript\">require([\"plotly\"], function(Plotly) { window.PLOTLYENV=window.PLOTLYENV || {};window.PLOTLYENV.BASE_URL=\"https://plot.ly\";Plotly.newPlot(\"6681fa61-609f-4176-8e90-2370faab7363\", [{\"name\": \"Attrition\", \"text\": [0.95, 0.05], \"textposition\": \"auto\", \"x\": [0, 1], \"y\": [0.95, 0.05], \"type\": \"bar\", \"uid\": \"5e71e5c0-26b3-41c7-928a-598837c6b2cb\"}], {\"autosize\": false, \"height\": 400, \"title\": {\"text\": \"Bankruptcy Distribution\"}, \"width\": 600}, {\"showLink\": false, \"linkText\": \"Export to plot.ly\", \"plotlyServerURL\": \"https://plot.ly\"})});</script>"
      ]
     },
     "metadata": {},
     "output_type": "display_data"
    }
   ],
   "source": [
    "temp = data.target.value_counts()\n",
    "trace = go.Bar(x=temp.index,\n",
    "               y= np.round(temp.astype(float)/temp.values.sum(),2),\n",
    "               text = np.round(temp.astype(float)/temp.values.sum(),2),\n",
    "               textposition = 'auto',\n",
    "               name = 'Attrition')\n",
    "data1 = [trace]\n",
    "layout = go.Layout(\n",
    "    autosize=False,\n",
    "    width=600,\n",
    "    height=400,title = \"Bankruptcy Distribution\"\n",
    ")\n",
    "\n",
    "fig = go.Figure(data=data1, layout=layout)\n",
    "iplot(fig)\n",
    "del temp"
   ]
  },
  {
   "cell_type": "markdown",
   "metadata": {},
   "source": [
    "## Assigning ID to Index"
   ]
  },
  {
   "cell_type": "code",
   "execution_count": 203,
   "metadata": {},
   "outputs": [
    {
     "data": {
      "text/plain": [
       "Int64Index([    1,     2,     3,     4,     5,     6,     7,     8,     9,\n",
       "               10,\n",
       "            ...\n",
       "            31274, 31275, 31276, 31277, 31278, 31279, 31280, 31281, 31282,\n",
       "            31283],\n",
       "           dtype='int64', name='ID', length=31274)"
      ]
     },
     "execution_count": 203,
     "metadata": {},
     "output_type": "execute_result"
    }
   ],
   "source": [
    "data.index = data[\"ID\"]\n",
    "data.index"
   ]
  },
  {
   "cell_type": "code",
   "execution_count": 204,
   "metadata": {},
   "outputs": [
    {
     "data": {
      "text/plain": [
       "Int64Index([36554, 36555, 36556, 36557, 36558, 36559, 36560, 36561, 36562,\n",
       "            36563,\n",
       "            ...\n",
       "            42995, 42996, 42997, 42998, 42999, 43000, 43001, 43002, 43003,\n",
       "            43004],\n",
       "           dtype='int64', name='ID', length=6451)"
      ]
     },
     "execution_count": 204,
     "metadata": {},
     "output_type": "execute_result"
    }
   ],
   "source": [
    "x_trn.index = x_trn[\"ID\"]\n",
    "x_trn.index"
   ]
  },
  {
   "cell_type": "markdown",
   "metadata": {},
   "source": [
    "## Dropping ID and Attr37. "
   ]
  },
  {
   "cell_type": "markdown",
   "metadata": {},
   "source": [
    "### Most of ATTR37 data have NA values "
   ]
  },
  {
   "cell_type": "code",
   "execution_count": 205,
   "metadata": {},
   "outputs": [],
   "source": [
    "data.drop([\"ID\"],inplace= True,axis = 1)\n",
    "data.drop([\"Attr37\"],inplace = True,axis = 1)"
   ]
  },
  {
   "cell_type": "code",
   "execution_count": 206,
   "metadata": {},
   "outputs": [],
   "source": [
    "x_trn.drop([\"ID\",\"Attr37\"],inplace= True,axis = 1)"
   ]
  },
  {
   "cell_type": "markdown",
   "metadata": {},
   "source": [
    "### Attributes to be removed for better results (o_o)\n",
    "### Found them using verious methods in R such as VIF, Corrilation & StepAIC"
   ]
  },
  {
   "cell_type": "code",
   "execution_count": null,
   "metadata": {},
   "outputs": [],
   "source": [
    "data = data[[\"Attr1\" , \"Attr6\" ,\"Attr9\" , \"Attr11\" , \"Attr12\" , \"Attr13\"  , \"Attr15\"  \n",
    "     , \"Attr24\" , \"Attr25\" , \"Attr27\" , \"Attr28\" , \"Attr29\" ,  \"Attr31\" ,  \n",
    "    \"Attr33\" , \"Attr35\" , \"Attr36\" ,  \"Attr39\" , \"Attr40\" , \"Attr41\" , \n",
    "    \"Attr42\" , \"Attr43\" , \"Attr44\" , \"Attr45\" , \"Attr46\" , \"Attr48\" , \"Attr50\" , \n",
    "    \"Attr51\" ,  \"Attr53\" , \"Attr56\" , \"Attr57\" , \"Attr58\" ,\n",
    "    \"Attr59\" , \"Attr60\" , \"Attr61\" , \"Attr64\",\"target\"]]"
   ]
  },
  {
   "cell_type": "code",
   "execution_count": 207,
   "metadata": {
    "scrolled": true
   },
   "outputs": [
    {
     "data": {
      "text/plain": [
       "Attr1     float64\n",
       "Attr2     float64\n",
       "Attr3     float64\n",
       "Attr4     float64\n",
       "Attr5     float64\n",
       "Attr6     float64\n",
       "Attr7     float64\n",
       "Attr8     float64\n",
       "Attr9     float64\n",
       "Attr10    float64\n",
       "Attr11    float64\n",
       "Attr12    float64\n",
       "Attr13    float64\n",
       "Attr14    float64\n",
       "Attr15    float64\n",
       "Attr16    float64\n",
       "Attr17    float64\n",
       "Attr18    float64\n",
       "Attr19    float64\n",
       "Attr20    float64\n",
       "Attr21    float64\n",
       "Attr22    float64\n",
       "Attr23    float64\n",
       "Attr24    float64\n",
       "Attr25    float64\n",
       "Attr26    float64\n",
       "Attr27    float64\n",
       "Attr28    float64\n",
       "Attr29    float64\n",
       "Attr30    float64\n",
       "           ...   \n",
       "Attr35    float64\n",
       "Attr36    float64\n",
       "Attr38    float64\n",
       "Attr39    float64\n",
       "Attr40    float64\n",
       "Attr41    float64\n",
       "Attr42    float64\n",
       "Attr43    float64\n",
       "Attr44    float64\n",
       "Attr45    float64\n",
       "Attr46    float64\n",
       "Attr47    float64\n",
       "Attr48    float64\n",
       "Attr49    float64\n",
       "Attr50    float64\n",
       "Attr51    float64\n",
       "Attr52    float64\n",
       "Attr53    float64\n",
       "Attr54    float64\n",
       "Attr55    float64\n",
       "Attr56    float64\n",
       "Attr57    float64\n",
       "Attr58    float64\n",
       "Attr59    float64\n",
       "Attr60    float64\n",
       "Attr61    float64\n",
       "Attr62    float64\n",
       "Attr63    float64\n",
       "Attr64    float64\n",
       "target      int64\n",
       "Length: 64, dtype: object"
      ]
     },
     "execution_count": 207,
     "metadata": {},
     "output_type": "execute_result"
    }
   ],
   "source": [
    "data.dtypes"
   ]
  },
  {
   "cell_type": "code",
   "execution_count": 208,
   "metadata": {},
   "outputs": [
    {
     "data": {
      "text/plain": [
       "(31274, 64)"
      ]
     },
     "execution_count": 208,
     "metadata": {},
     "output_type": "execute_result"
    }
   ],
   "source": [
    "data.shape"
   ]
  },
  {
   "cell_type": "code",
   "execution_count": 209,
   "metadata": {},
   "outputs": [
    {
     "data": {
      "text/plain": [
       "(6451, 63)"
      ]
     },
     "execution_count": 209,
     "metadata": {},
     "output_type": "execute_result"
    }
   ],
   "source": [
    "x_trn.shape"
   ]
  },
  {
   "cell_type": "code",
   "execution_count": 210,
   "metadata": {},
   "outputs": [
    {
     "data": {
      "text/html": [
       "<div>\n",
       "<style scoped>\n",
       "    .dataframe tbody tr th:only-of-type {\n",
       "        vertical-align: middle;\n",
       "    }\n",
       "\n",
       "    .dataframe tbody tr th {\n",
       "        vertical-align: top;\n",
       "    }\n",
       "\n",
       "    .dataframe thead th {\n",
       "        text-align: right;\n",
       "    }\n",
       "</style>\n",
       "<table border=\"1\" class=\"dataframe\">\n",
       "  <thead>\n",
       "    <tr style=\"text-align: right;\">\n",
       "      <th></th>\n",
       "      <th>Attr1</th>\n",
       "      <th>Attr2</th>\n",
       "      <th>Attr3</th>\n",
       "      <th>Attr4</th>\n",
       "      <th>Attr5</th>\n",
       "      <th>Attr6</th>\n",
       "      <th>Attr7</th>\n",
       "      <th>Attr8</th>\n",
       "      <th>Attr9</th>\n",
       "      <th>Attr10</th>\n",
       "      <th>...</th>\n",
       "      <th>Attr56</th>\n",
       "      <th>Attr57</th>\n",
       "      <th>Attr58</th>\n",
       "      <th>Attr59</th>\n",
       "      <th>Attr60</th>\n",
       "      <th>Attr61</th>\n",
       "      <th>Attr62</th>\n",
       "      <th>Attr63</th>\n",
       "      <th>Attr64</th>\n",
       "      <th>target</th>\n",
       "    </tr>\n",
       "  </thead>\n",
       "  <tbody>\n",
       "    <tr>\n",
       "      <th>count</th>\n",
       "      <td>31267.000000</td>\n",
       "      <td>31267.000000</td>\n",
       "      <td>31267.000000</td>\n",
       "      <td>31172.000000</td>\n",
       "      <td>3.121100e+04</td>\n",
       "      <td>31267.000000</td>\n",
       "      <td>31267.000000</td>\n",
       "      <td>31201.000000</td>\n",
       "      <td>31270.000000</td>\n",
       "      <td>31267.000000</td>\n",
       "      <td>...</td>\n",
       "      <td>3.117300e+04</td>\n",
       "      <td>31268.000000</td>\n",
       "      <td>3.120600e+04</td>\n",
       "      <td>31268.000000</td>\n",
       "      <td>2.970500e+04</td>\n",
       "      <td>31201.000000</td>\n",
       "      <td>3.117300e+04</td>\n",
       "      <td>31172.000000</td>\n",
       "      <td>30674.000000</td>\n",
       "      <td>31274.000000</td>\n",
       "    </tr>\n",
       "    <tr>\n",
       "      <th>mean</th>\n",
       "      <td>0.051622</td>\n",
       "      <td>0.551167</td>\n",
       "      <td>0.151234</td>\n",
       "      <td>7.307926</td>\n",
       "      <td>-1.703684e+02</td>\n",
       "      <td>-0.011758</td>\n",
       "      <td>0.120603</td>\n",
       "      <td>14.366198</td>\n",
       "      <td>2.784073</td>\n",
       "      <td>0.704318</td>\n",
       "      <td>...</td>\n",
       "      <td>-3.638471e+01</td>\n",
       "      <td>-0.007815</td>\n",
       "      <td>4.068363e+01</td>\n",
       "      <td>1.678489</td>\n",
       "      <td>5.464326e+02</td>\n",
       "      <td>15.229973</td>\n",
       "      <td>1.641049e+03</td>\n",
       "      <td>9.639857</td>\n",
       "      <td>81.544283</td>\n",
       "      <td>0.048283</td>\n",
       "    </tr>\n",
       "    <tr>\n",
       "      <th>std</th>\n",
       "      <td>1.748479</td>\n",
       "      <td>4.511166</td>\n",
       "      <td>3.755029</td>\n",
       "      <td>347.776046</td>\n",
       "      <td>2.392621e+04</td>\n",
       "      <td>5.490234</td>\n",
       "      <td>6.045910</td>\n",
       "      <td>562.086858</td>\n",
       "      <td>69.983521</td>\n",
       "      <td>15.335891</td>\n",
       "      <td>...</td>\n",
       "      <td>6.277650e+03</td>\n",
       "      <td>13.991995</td>\n",
       "      <td>6.284568e+03</td>\n",
       "      <td>143.491111</td>\n",
       "      <td>3.792910e+04</td>\n",
       "      <td>219.366668</td>\n",
       "      <td>1.515262e+05</td>\n",
       "      <td>142.361970</td>\n",
       "      <td>2727.117856</td>\n",
       "      <td>0.214367</td>\n",
       "    </tr>\n",
       "    <tr>\n",
       "      <th>min</th>\n",
       "      <td>-256.890000</td>\n",
       "      <td>-430.870000</td>\n",
       "      <td>-479.730000</td>\n",
       "      <td>-0.045319</td>\n",
       "      <td>-2.722100e+06</td>\n",
       "      <td>-508.120000</td>\n",
       "      <td>-517.480000</td>\n",
       "      <td>-15.236000</td>\n",
       "      <td>-3.496000</td>\n",
       "      <td>-479.730000</td>\n",
       "      <td>...</td>\n",
       "      <td>-1.108300e+06</td>\n",
       "      <td>-1667.300000</td>\n",
       "      <td>-1.986900e+02</td>\n",
       "      <td>-327.970000</td>\n",
       "      <td>-1.244000e+01</td>\n",
       "      <td>-6.590300</td>\n",
       "      <td>-1.496500e+04</td>\n",
       "      <td>-0.367890</td>\n",
       "      <td>-3.726500</td>\n",
       "      <td>0.000000</td>\n",
       "    </tr>\n",
       "    <tr>\n",
       "      <th>25%</th>\n",
       "      <td>0.003362</td>\n",
       "      <td>0.269420</td>\n",
       "      <td>0.022197</td>\n",
       "      <td>1.051000</td>\n",
       "      <td>-4.843150e+01</td>\n",
       "      <td>0.000000</td>\n",
       "      <td>0.005762</td>\n",
       "      <td>0.429000</td>\n",
       "      <td>1.018100</td>\n",
       "      <td>0.294570</td>\n",
       "      <td>...</td>\n",
       "      <td>8.926200e-03</td>\n",
       "      <td>0.014685</td>\n",
       "      <td>8.751325e-01</td>\n",
       "      <td>0.000000</td>\n",
       "      <td>5.533100e+00</td>\n",
       "      <td>4.523100</td>\n",
       "      <td>4.205500e+01</td>\n",
       "      <td>3.099075</td>\n",
       "      <td>2.180375</td>\n",
       "      <td>0.000000</td>\n",
       "    </tr>\n",
       "    <tr>\n",
       "      <th>50%</th>\n",
       "      <td>0.049688</td>\n",
       "      <td>0.472650</td>\n",
       "      <td>0.196780</td>\n",
       "      <td>1.571050</td>\n",
       "      <td>-7.769000e-01</td>\n",
       "      <td>0.000000</td>\n",
       "      <td>0.059709</td>\n",
       "      <td>1.068700</td>\n",
       "      <td>1.196650</td>\n",
       "      <td>0.505220</td>\n",
       "      <td>...</td>\n",
       "      <td>5.306600e-02</td>\n",
       "      <td>0.120470</td>\n",
       "      <td>9.507450e-01</td>\n",
       "      <td>0.005458</td>\n",
       "      <td>9.764100e+00</td>\n",
       "      <td>6.652700</td>\n",
       "      <td>7.120300e+01</td>\n",
       "      <td>5.091150</td>\n",
       "      <td>4.289750</td>\n",
       "      <td>0.000000</td>\n",
       "    </tr>\n",
       "    <tr>\n",
       "      <th>75%</th>\n",
       "      <td>0.130525</td>\n",
       "      <td>0.689200</td>\n",
       "      <td>0.404035</td>\n",
       "      <td>2.797575</td>\n",
       "      <td>5.076650e+01</td>\n",
       "      <td>0.087615</td>\n",
       "      <td>0.151900</td>\n",
       "      <td>2.606700</td>\n",
       "      <td>2.060500</td>\n",
       "      <td>0.708415</td>\n",
       "      <td>...</td>\n",
       "      <td>1.295100e-01</td>\n",
       "      <td>0.286710</td>\n",
       "      <td>9.927900e-01</td>\n",
       "      <td>0.234872</td>\n",
       "      <td>2.014500e+01</td>\n",
       "      <td>10.418000</td>\n",
       "      <td>1.170900e+02</td>\n",
       "      <td>8.618450</td>\n",
       "      <td>9.788625</td>\n",
       "      <td>0.000000</td>\n",
       "    </tr>\n",
       "    <tr>\n",
       "      <th>max</th>\n",
       "      <td>94.280000</td>\n",
       "      <td>480.730000</td>\n",
       "      <td>28.336000</td>\n",
       "      <td>53433.000000</td>\n",
       "      <td>1.034100e+06</td>\n",
       "      <td>543.250000</td>\n",
       "      <td>649.230000</td>\n",
       "      <td>53432.000000</td>\n",
       "      <td>9742.300000</td>\n",
       "      <td>1099.500000</td>\n",
       "      <td>...</td>\n",
       "      <td>1.120200e+02</td>\n",
       "      <td>552.640000</td>\n",
       "      <td>1.108300e+06</td>\n",
       "      <td>23853.000000</td>\n",
       "      <td>4.818700e+06</td>\n",
       "      <td>26862.000000</td>\n",
       "      <td>2.501600e+07</td>\n",
       "      <td>23454.000000</td>\n",
       "      <td>294770.000000</td>\n",
       "      <td>1.000000</td>\n",
       "    </tr>\n",
       "  </tbody>\n",
       "</table>\n",
       "<p>8 rows × 64 columns</p>\n",
       "</div>"
      ],
      "text/plain": [
       "              Attr1         Attr2         Attr3         Attr4         Attr5  \\\n",
       "count  31267.000000  31267.000000  31267.000000  31172.000000  3.121100e+04   \n",
       "mean       0.051622      0.551167      0.151234      7.307926 -1.703684e+02   \n",
       "std        1.748479      4.511166      3.755029    347.776046  2.392621e+04   \n",
       "min     -256.890000   -430.870000   -479.730000     -0.045319 -2.722100e+06   \n",
       "25%        0.003362      0.269420      0.022197      1.051000 -4.843150e+01   \n",
       "50%        0.049688      0.472650      0.196780      1.571050 -7.769000e-01   \n",
       "75%        0.130525      0.689200      0.404035      2.797575  5.076650e+01   \n",
       "max       94.280000    480.730000     28.336000  53433.000000  1.034100e+06   \n",
       "\n",
       "              Attr6         Attr7         Attr8         Attr9        Attr10  \\\n",
       "count  31267.000000  31267.000000  31201.000000  31270.000000  31267.000000   \n",
       "mean      -0.011758      0.120603     14.366198      2.784073      0.704318   \n",
       "std        5.490234      6.045910    562.086858     69.983521     15.335891   \n",
       "min     -508.120000   -517.480000    -15.236000     -3.496000   -479.730000   \n",
       "25%        0.000000      0.005762      0.429000      1.018100      0.294570   \n",
       "50%        0.000000      0.059709      1.068700      1.196650      0.505220   \n",
       "75%        0.087615      0.151900      2.606700      2.060500      0.708415   \n",
       "max      543.250000    649.230000  53432.000000   9742.300000   1099.500000   \n",
       "\n",
       "           ...             Attr56        Attr57        Attr58        Attr59  \\\n",
       "count      ...       3.117300e+04  31268.000000  3.120600e+04  31268.000000   \n",
       "mean       ...      -3.638471e+01     -0.007815  4.068363e+01      1.678489   \n",
       "std        ...       6.277650e+03     13.991995  6.284568e+03    143.491111   \n",
       "min        ...      -1.108300e+06  -1667.300000 -1.986900e+02   -327.970000   \n",
       "25%        ...       8.926200e-03      0.014685  8.751325e-01      0.000000   \n",
       "50%        ...       5.306600e-02      0.120470  9.507450e-01      0.005458   \n",
       "75%        ...       1.295100e-01      0.286710  9.927900e-01      0.234872   \n",
       "max        ...       1.120200e+02    552.640000  1.108300e+06  23853.000000   \n",
       "\n",
       "             Attr60        Attr61        Attr62        Attr63         Attr64  \\\n",
       "count  2.970500e+04  31201.000000  3.117300e+04  31172.000000   30674.000000   \n",
       "mean   5.464326e+02     15.229973  1.641049e+03      9.639857      81.544283   \n",
       "std    3.792910e+04    219.366668  1.515262e+05    142.361970    2727.117856   \n",
       "min   -1.244000e+01     -6.590300 -1.496500e+04     -0.367890      -3.726500   \n",
       "25%    5.533100e+00      4.523100  4.205500e+01      3.099075       2.180375   \n",
       "50%    9.764100e+00      6.652700  7.120300e+01      5.091150       4.289750   \n",
       "75%    2.014500e+01     10.418000  1.170900e+02      8.618450       9.788625   \n",
       "max    4.818700e+06  26862.000000  2.501600e+07  23454.000000  294770.000000   \n",
       "\n",
       "             target  \n",
       "count  31274.000000  \n",
       "mean       0.048283  \n",
       "std        0.214367  \n",
       "min        0.000000  \n",
       "25%        0.000000  \n",
       "50%        0.000000  \n",
       "75%        0.000000  \n",
       "max        1.000000  \n",
       "\n",
       "[8 rows x 64 columns]"
      ]
     },
     "execution_count": 210,
     "metadata": {},
     "output_type": "execute_result"
    }
   ],
   "source": [
    "data.describe(include=\"all\")"
   ]
  },
  {
   "cell_type": "code",
   "execution_count": 211,
   "metadata": {},
   "outputs": [
    {
     "data": {
      "text/html": [
       "<div>\n",
       "<style scoped>\n",
       "    .dataframe tbody tr th:only-of-type {\n",
       "        vertical-align: middle;\n",
       "    }\n",
       "\n",
       "    .dataframe tbody tr th {\n",
       "        vertical-align: top;\n",
       "    }\n",
       "\n",
       "    .dataframe thead th {\n",
       "        text-align: right;\n",
       "    }\n",
       "</style>\n",
       "<table border=\"1\" class=\"dataframe\">\n",
       "  <thead>\n",
       "    <tr style=\"text-align: right;\">\n",
       "      <th></th>\n",
       "      <th>Attr1</th>\n",
       "      <th>Attr2</th>\n",
       "      <th>Attr3</th>\n",
       "      <th>Attr4</th>\n",
       "      <th>Attr5</th>\n",
       "      <th>Attr6</th>\n",
       "      <th>Attr7</th>\n",
       "      <th>Attr8</th>\n",
       "      <th>Attr9</th>\n",
       "      <th>Attr10</th>\n",
       "      <th>...</th>\n",
       "      <th>Attr55</th>\n",
       "      <th>Attr56</th>\n",
       "      <th>Attr57</th>\n",
       "      <th>Attr58</th>\n",
       "      <th>Attr59</th>\n",
       "      <th>Attr60</th>\n",
       "      <th>Attr61</th>\n",
       "      <th>Attr62</th>\n",
       "      <th>Attr63</th>\n",
       "      <th>Attr64</th>\n",
       "    </tr>\n",
       "  </thead>\n",
       "  <tbody>\n",
       "    <tr>\n",
       "      <th>count</th>\n",
       "      <td>6451.000000</td>\n",
       "      <td>6451.000000</td>\n",
       "      <td>6451.000000</td>\n",
       "      <td>6429.000000</td>\n",
       "      <td>6.438000e+03</td>\n",
       "      <td>6451.000000</td>\n",
       "      <td>6451.000000</td>\n",
       "      <td>6437.000000</td>\n",
       "      <td>6449.000000</td>\n",
       "      <td>6451.000000</td>\n",
       "      <td>...</td>\n",
       "      <td>6.450000e+03</td>\n",
       "      <td>6439.000000</td>\n",
       "      <td>6451.000000</td>\n",
       "      <td>6445.000000</td>\n",
       "      <td>6451.000000</td>\n",
       "      <td>6146.000000</td>\n",
       "      <td>6436.000000</td>\n",
       "      <td>6.439000e+03</td>\n",
       "      <td>6429.000000</td>\n",
       "      <td>6341.000000</td>\n",
       "    </tr>\n",
       "    <tr>\n",
       "      <th>mean</th>\n",
       "      <td>-0.019729</td>\n",
       "      <td>0.671916</td>\n",
       "      <td>0.035850</td>\n",
       "      <td>3.540007</td>\n",
       "      <td>1.585019e+02</td>\n",
       "      <td>-0.208878</td>\n",
       "      <td>0.000546</td>\n",
       "      <td>7.062295</td>\n",
       "      <td>2.007925</td>\n",
       "      <td>0.351324</td>\n",
       "      <td>...</td>\n",
       "      <td>6.088847e+03</td>\n",
       "      <td>0.023130</td>\n",
       "      <td>0.034450</td>\n",
       "      <td>3.932018</td>\n",
       "      <td>0.530441</td>\n",
       "      <td>283.327769</td>\n",
       "      <td>13.902278</td>\n",
       "      <td>-4.418735e+01</td>\n",
       "      <td>9.092290</td>\n",
       "      <td>46.106849</td>\n",
       "    </tr>\n",
       "    <tr>\n",
       "      <th>std</th>\n",
       "      <td>5.853072</td>\n",
       "      <td>7.881294</td>\n",
       "      <td>7.877168</td>\n",
       "      <td>20.957010</td>\n",
       "      <td>2.054143e+04</td>\n",
       "      <td>10.400030</td>\n",
       "      <td>5.873490</td>\n",
       "      <td>230.439886</td>\n",
       "      <td>21.260431</td>\n",
       "      <td>8.556110</td>\n",
       "      <td>...</td>\n",
       "      <td>4.220430e+04</td>\n",
       "      <td>7.049784</td>\n",
       "      <td>8.066195</td>\n",
       "      <td>197.802787</td>\n",
       "      <td>21.750395</td>\n",
       "      <td>8061.380944</td>\n",
       "      <td>107.694529</td>\n",
       "      <td>3.018073e+04</td>\n",
       "      <td>72.770389</td>\n",
       "      <td>742.918601</td>\n",
       "    </tr>\n",
       "    <tr>\n",
       "      <th>min</th>\n",
       "      <td>-463.890000</td>\n",
       "      <td>0.000000</td>\n",
       "      <td>-445.910000</td>\n",
       "      <td>-0.403110</td>\n",
       "      <td>-6.341400e+05</td>\n",
       "      <td>-486.820000</td>\n",
       "      <td>-463.890000</td>\n",
       "      <td>-3.735100</td>\n",
       "      <td>-0.612590</td>\n",
       "      <td>-445.910000</td>\n",
       "      <td>...</td>\n",
       "      <td>-4.928300e+05</td>\n",
       "      <td>-477.080000</td>\n",
       "      <td>-469.050000</td>\n",
       "      <td>-1.632400</td>\n",
       "      <td>-152.090000</td>\n",
       "      <td>0.000000</td>\n",
       "      <td>-0.014534</td>\n",
       "      <td>-2.336500e+06</td>\n",
       "      <td>-1.543200</td>\n",
       "      <td>-10677.000000</td>\n",
       "    </tr>\n",
       "    <tr>\n",
       "      <th>25%</th>\n",
       "      <td>0.003772</td>\n",
       "      <td>0.271310</td>\n",
       "      <td>0.017369</td>\n",
       "      <td>1.038700</td>\n",
       "      <td>-4.988150e+01</td>\n",
       "      <td>0.000000</td>\n",
       "      <td>0.005991</td>\n",
       "      <td>0.427480</td>\n",
       "      <td>1.019700</td>\n",
       "      <td>0.293175</td>\n",
       "      <td>...</td>\n",
       "      <td>1.958850e+01</td>\n",
       "      <td>0.009892</td>\n",
       "      <td>0.015050</td>\n",
       "      <td>0.878160</td>\n",
       "      <td>0.000000</td>\n",
       "      <td>5.680450</td>\n",
       "      <td>4.549600</td>\n",
       "      <td>4.182800e+01</td>\n",
       "      <td>3.109900</td>\n",
       "      <td>2.166400</td>\n",
       "    </tr>\n",
       "    <tr>\n",
       "      <th>50%</th>\n",
       "      <td>0.050048</td>\n",
       "      <td>0.471450</td>\n",
       "      <td>0.194430</td>\n",
       "      <td>1.558600</td>\n",
       "      <td>-1.428250e+00</td>\n",
       "      <td>0.000000</td>\n",
       "      <td>0.059782</td>\n",
       "      <td>1.058700</td>\n",
       "      <td>1.192800</td>\n",
       "      <td>0.503750</td>\n",
       "      <td>...</td>\n",
       "      <td>1.098150e+03</td>\n",
       "      <td>0.052082</td>\n",
       "      <td>0.117930</td>\n",
       "      <td>0.951960</td>\n",
       "      <td>0.009292</td>\n",
       "      <td>10.058000</td>\n",
       "      <td>6.719050</td>\n",
       "      <td>7.049000e+01</td>\n",
       "      <td>5.145700</td>\n",
       "      <td>4.297500</td>\n",
       "    </tr>\n",
       "    <tr>\n",
       "      <th>75%</th>\n",
       "      <td>0.127275</td>\n",
       "      <td>0.687835</td>\n",
       "      <td>0.395880</td>\n",
       "      <td>2.737500</td>\n",
       "      <td>4.848250e+01</td>\n",
       "      <td>0.093908</td>\n",
       "      <td>0.147620</td>\n",
       "      <td>2.589000</td>\n",
       "      <td>2.104000</td>\n",
       "      <td>0.705235</td>\n",
       "      <td>...</td>\n",
       "      <td>4.880725e+03</td>\n",
       "      <td>0.124810</td>\n",
       "      <td>0.282195</td>\n",
       "      <td>0.992470</td>\n",
       "      <td>0.249175</td>\n",
       "      <td>20.720250</td>\n",
       "      <td>10.660000</td>\n",
       "      <td>1.168050e+02</td>\n",
       "      <td>8.633600</td>\n",
       "      <td>10.024000</td>\n",
       "    </tr>\n",
       "    <tr>\n",
       "      <th>max</th>\n",
       "      <td>20.482000</td>\n",
       "      <td>446.910000</td>\n",
       "      <td>17.708000</td>\n",
       "      <td>1017.800000</td>\n",
       "      <td>1.250100e+06</td>\n",
       "      <td>244.310000</td>\n",
       "      <td>38.618000</td>\n",
       "      <td>18148.000000</td>\n",
       "      <td>1704.800000</td>\n",
       "      <td>266.860000</td>\n",
       "      <td>...</td>\n",
       "      <td>1.634200e+06</td>\n",
       "      <td>293.150000</td>\n",
       "      <td>147.190000</td>\n",
       "      <td>15459.000000</td>\n",
       "      <td>1661.000000</td>\n",
       "      <td>457320.000000</td>\n",
       "      <td>7123.000000</td>\n",
       "      <td>4.513800e+05</td>\n",
       "      <td>5662.400000</td>\n",
       "      <td>28999.000000</td>\n",
       "    </tr>\n",
       "  </tbody>\n",
       "</table>\n",
       "<p>8 rows × 63 columns</p>\n",
       "</div>"
      ],
      "text/plain": [
       "             Attr1        Attr2        Attr3        Attr4         Attr5  \\\n",
       "count  6451.000000  6451.000000  6451.000000  6429.000000  6.438000e+03   \n",
       "mean     -0.019729     0.671916     0.035850     3.540007  1.585019e+02   \n",
       "std       5.853072     7.881294     7.877168    20.957010  2.054143e+04   \n",
       "min    -463.890000     0.000000  -445.910000    -0.403110 -6.341400e+05   \n",
       "25%       0.003772     0.271310     0.017369     1.038700 -4.988150e+01   \n",
       "50%       0.050048     0.471450     0.194430     1.558600 -1.428250e+00   \n",
       "75%       0.127275     0.687835     0.395880     2.737500  4.848250e+01   \n",
       "max      20.482000   446.910000    17.708000  1017.800000  1.250100e+06   \n",
       "\n",
       "             Attr6        Attr7         Attr8        Attr9       Attr10  \\\n",
       "count  6451.000000  6451.000000   6437.000000  6449.000000  6451.000000   \n",
       "mean     -0.208878     0.000546      7.062295     2.007925     0.351324   \n",
       "std      10.400030     5.873490    230.439886    21.260431     8.556110   \n",
       "min    -486.820000  -463.890000     -3.735100    -0.612590  -445.910000   \n",
       "25%       0.000000     0.005991      0.427480     1.019700     0.293175   \n",
       "50%       0.000000     0.059782      1.058700     1.192800     0.503750   \n",
       "75%       0.093908     0.147620      2.589000     2.104000     0.705235   \n",
       "max     244.310000    38.618000  18148.000000  1704.800000   266.860000   \n",
       "\n",
       "           ...             Attr55       Attr56       Attr57        Attr58  \\\n",
       "count      ...       6.450000e+03  6439.000000  6451.000000   6445.000000   \n",
       "mean       ...       6.088847e+03     0.023130     0.034450      3.932018   \n",
       "std        ...       4.220430e+04     7.049784     8.066195    197.802787   \n",
       "min        ...      -4.928300e+05  -477.080000  -469.050000     -1.632400   \n",
       "25%        ...       1.958850e+01     0.009892     0.015050      0.878160   \n",
       "50%        ...       1.098150e+03     0.052082     0.117930      0.951960   \n",
       "75%        ...       4.880725e+03     0.124810     0.282195      0.992470   \n",
       "max        ...       1.634200e+06   293.150000   147.190000  15459.000000   \n",
       "\n",
       "            Attr59         Attr60       Attr61        Attr62       Attr63  \\\n",
       "count  6451.000000    6146.000000  6436.000000  6.439000e+03  6429.000000   \n",
       "mean      0.530441     283.327769    13.902278 -4.418735e+01     9.092290   \n",
       "std      21.750395    8061.380944   107.694529  3.018073e+04    72.770389   \n",
       "min    -152.090000       0.000000    -0.014534 -2.336500e+06    -1.543200   \n",
       "25%       0.000000       5.680450     4.549600  4.182800e+01     3.109900   \n",
       "50%       0.009292      10.058000     6.719050  7.049000e+01     5.145700   \n",
       "75%       0.249175      20.720250    10.660000  1.168050e+02     8.633600   \n",
       "max    1661.000000  457320.000000  7123.000000  4.513800e+05  5662.400000   \n",
       "\n",
       "             Attr64  \n",
       "count   6341.000000  \n",
       "mean      46.106849  \n",
       "std      742.918601  \n",
       "min   -10677.000000  \n",
       "25%        2.166400  \n",
       "50%        4.297500  \n",
       "75%       10.024000  \n",
       "max    28999.000000  \n",
       "\n",
       "[8 rows x 63 columns]"
      ]
     },
     "execution_count": 211,
     "metadata": {},
     "output_type": "execute_result"
    }
   ],
   "source": [
    "x_trn.describe(include=\"all\")"
   ]
  },
  {
   "cell_type": "code",
   "execution_count": 212,
   "metadata": {
    "scrolled": true
   },
   "outputs": [
    {
     "data": {
      "text/plain": [
       "Attr1       0\n",
       "Attr2       0\n",
       "Attr3       0\n",
       "Attr4      22\n",
       "Attr5      13\n",
       "Attr6       0\n",
       "Attr7       0\n",
       "Attr8      14\n",
       "Attr9       2\n",
       "Attr10      0\n",
       "Attr11      7\n",
       "Attr12     22\n",
       "Attr13     12\n",
       "Attr14      0\n",
       "Attr15      8\n",
       "Attr16     14\n",
       "Attr17     14\n",
       "Attr18      0\n",
       "Attr19     12\n",
       "Attr20     12\n",
       "Attr21    853\n",
       "Attr22      0\n",
       "Attr23     12\n",
       "Attr24    128\n",
       "Attr25      0\n",
       "Attr26     14\n",
       "Attr27    407\n",
       "Attr28    110\n",
       "Attr29      0\n",
       "Attr30     12\n",
       "         ... \n",
       "Attr34     14\n",
       "Attr35      0\n",
       "Attr36      0\n",
       "Attr38      0\n",
       "Attr39     12\n",
       "Attr40     22\n",
       "Attr41    104\n",
       "Attr42     12\n",
       "Attr43     12\n",
       "Attr44     12\n",
       "Attr45    304\n",
       "Attr46     22\n",
       "Attr47     44\n",
       "Attr48      0\n",
       "Attr49     12\n",
       "Attr50     14\n",
       "Attr51      0\n",
       "Attr52     44\n",
       "Attr53    110\n",
       "Attr54    110\n",
       "Attr55      1\n",
       "Attr56     12\n",
       "Attr57      0\n",
       "Attr58      6\n",
       "Attr59      0\n",
       "Attr60    305\n",
       "Attr61     15\n",
       "Attr62     12\n",
       "Attr63     22\n",
       "Attr64    110\n",
       "Length: 63, dtype: int64"
      ]
     },
     "execution_count": 212,
     "metadata": {},
     "output_type": "execute_result"
    }
   ],
   "source": [
    "x_trn.isna().sum()"
   ]
  },
  {
   "cell_type": "markdown",
   "metadata": {},
   "source": [
    "## Test and Train split"
   ]
  },
  {
   "cell_type": "code",
   "execution_count": 213,
   "metadata": {},
   "outputs": [],
   "source": [
    "X = data.drop(\"target\",axis = 1)\n",
    "Y = data[\"target\"]\n",
    "X_train, X_test, y_train, y_test = train_test_split(X, Y, test_size=0.2, random_state=0)"
   ]
  },
  {
   "cell_type": "markdown",
   "metadata": {},
   "source": [
    "### Checking the # of 1's and # of 0's in the train data"
   ]
  },
  {
   "cell_type": "code",
   "execution_count": 214,
   "metadata": {
    "scrolled": true
   },
   "outputs": [
    {
     "data": {
      "text/plain": [
       "Counter({1: 1180, 0: 23839})"
      ]
     },
     "execution_count": 214,
     "metadata": {},
     "output_type": "execute_result"
    }
   ],
   "source": [
    "Counter(y_train)\n",
    "##Counter(y_test)"
   ]
  },
  {
   "cell_type": "markdown",
   "metadata": {},
   "source": [
    "## Using Mean for imputing NA values"
   ]
  },
  {
   "cell_type": "code",
   "execution_count": 217,
   "metadata": {},
   "outputs": [],
   "source": [
    "imp = SimpleImputer(strategy='mean')\n",
    "X_train = pd.DataFrame(imp.fit_transform(X_train))\n",
    "X_test = pd.DataFrame(imp.transform(X_test))\n",
    "x_trn = pd.DataFrame(imp.transform(x_trn))"
   ]
  },
  {
   "cell_type": "markdown",
   "metadata": {},
   "source": [
    "# Trying Verious sampling methods to fix class imbalence problem "
   ]
  },
  {
   "cell_type": "markdown",
   "metadata": {},
   "source": [
    "### 1. Random UnderSampling"
   ]
  },
  {
   "cell_type": "markdown",
   "metadata": {
    "scrolled": true
   },
   "source": [
    "#### x = RandomUnderSampler(ratio={1 : 1057,0:7000})\n",
    "X_rs, y_rs = x.fit_sample(X_train, y_train)\n",
    "Counter(y_rs)"
   ]
  },
  {
   "cell_type": "markdown",
   "metadata": {},
   "source": [
    "### 2. Symentric Minority Over Sampling Technique (SMOTE)"
   ]
  },
  {
   "cell_type": "code",
   "execution_count": 218,
   "metadata": {},
   "outputs": [],
   "source": [
    "sm = SMOTE(ratio=0.6,random_state=0)\n",
    "X_train_res, y_train_res = sm.fit_sample(X_train, y_train.ravel())"
   ]
  },
  {
   "cell_type": "markdown",
   "metadata": {},
   "source": [
    "### 3. NearMiss Sampling"
   ]
  },
  {
   "cell_type": "markdown",
   "metadata": {},
   "source": [
    "#### Nm = NearMiss(ratio= 0.5,version=3,n_neighbors=3,random_state=234)\n",
    "X_train_res, y_train_res = Nm.fit_sample(X_train, y_train.ravel())"
   ]
  },
  {
   "cell_type": "markdown",
   "metadata": {},
   "source": [
    "### 4. Condenced Nearest Neighbours"
   ]
  },
  {
   "cell_type": "markdown",
   "metadata": {},
   "source": [
    "#### Cnn = CondensedNearestNeighbour(random_state=234)\n",
    "X_train_res, y_train_res = Cnn.fit_sample(X_train, y_train)"
   ]
  },
  {
   "cell_type": "markdown",
   "metadata": {},
   "source": [
    "### 5. Editted Nearest Neighbours"
   ]
  },
  {
   "cell_type": "markdown",
   "metadata": {},
   "source": [
    "#### ENN = EditedNearestNeighbours(random_state=234)\n",
    "X_train_res, y_train_res = ENN.fit_sample(X_train, y_train)"
   ]
  },
  {
   "cell_type": "markdown",
   "metadata": {},
   "source": [
    "## BEST up to now"
   ]
  },
  {
   "cell_type": "markdown",
   "metadata": {},
   "source": [
    "### 5. SMOTE with Editted Nearest Neighbours (SMOTE ENN)"
   ]
  },
  {
   "cell_type": "markdown",
   "metadata": {},
   "source": [
    "#### SENN = SMOTEENN(ratio= 0.6,random_state=0)\n",
    "X_train_res, y_train_res = SENN.fit_sample(X_train, y_train)"
   ]
  },
  {
   "cell_type": "markdown",
   "metadata": {},
   "source": [
    "### 6. Ensomble Classifiers"
   ]
  },
  {
   "cell_type": "markdown",
   "metadata": {},
   "source": [
    "#### ens = EasyEnsemble()\n",
    "X_train_res, y_train_res = ens.fit_sample(X_train, y_train)"
   ]
  },
  {
   "cell_type": "code",
   "execution_count": 219,
   "metadata": {},
   "outputs": [
    {
     "data": {
      "text/plain": [
       "Counter({1: 14303, 0: 23839})"
      ]
     },
     "execution_count": 219,
     "metadata": {},
     "output_type": "execute_result"
    }
   ],
   "source": [
    "Counter(y_train_res)"
   ]
  },
  {
   "cell_type": "code",
   "execution_count": 220,
   "metadata": {},
   "outputs": [],
   "source": [
    "Counter(y_train)\n",
    "X_train_res = pd.DataFrame(X_train_res)\n",
    "y_train_res =pd.DataFrame(y_train_res)"
   ]
  },
  {
   "cell_type": "markdown",
   "metadata": {},
   "source": [
    "X = X_train_res1\n",
    "Y = y_train_res1\n",
    "X_train_res, X_test, y_train_res, y_test = train_test_split(X, Y, test_size=0.2, random_state=234,stratify= Y)"
   ]
  },
  {
   "cell_type": "code",
   "execution_count": 221,
   "metadata": {},
   "outputs": [
    {
     "data": {
      "text/plain": [
       "Int64Index([ 0,  1,  2,  3,  4,  5,  6,  7,  8,  9, 10, 11, 12, 13, 14, 15, 16,\n",
       "            17, 18, 19, 20, 21, 22, 23, 24, 25, 26, 27, 28, 29, 30, 31, 32, 33,\n",
       "            34, 35, 36, 37, 38, 39, 40, 41, 42, 43, 44, 45, 46, 47, 48, 49, 50,\n",
       "            51, 52, 53, 54, 55, 56, 57, 58, 59, 60, 61, 62],\n",
       "           dtype='int64')"
      ]
     },
     "execution_count": 221,
     "metadata": {},
     "output_type": "execute_result"
    }
   ],
   "source": [
    "num_attr = X_train_res.select_dtypes(include=['float64','int64']).columns\n",
    "num_attr"
   ]
  },
  {
   "cell_type": "code",
   "execution_count": 222,
   "metadata": {},
   "outputs": [
    {
     "data": {
      "text/plain": [
       "(38142, 1)"
      ]
     },
     "execution_count": 222,
     "metadata": {},
     "output_type": "execute_result"
    }
   ],
   "source": [
    "X_train_res = pd.DataFrame(X_train_res)\n",
    "y_train_res =pd.DataFrame(y_train_res)\n",
    "y_train_res.shape"
   ]
  },
  {
   "cell_type": "markdown",
   "metadata": {},
   "source": [
    "## Standerdizing the data"
   ]
  },
  {
   "cell_type": "code",
   "execution_count": 223,
   "metadata": {},
   "outputs": [],
   "source": [
    "SS= StandardScaler()\n",
    "SS.fit(X_train_res)\n",
    "X_train_res = SS.transform(X_train_res)\n",
    "X_test = SS.transform(X_test)"
   ]
  },
  {
   "cell_type": "code",
   "execution_count": 224,
   "metadata": {},
   "outputs": [],
   "source": [
    "x_trn = SS.transform(x_trn)"
   ]
  },
  {
   "cell_type": "code",
   "execution_count": 225,
   "metadata": {
    "scrolled": true
   },
   "outputs": [],
   "source": [
    "X_train_res = pd.DataFrame(X_train_res)\n",
    "X_test = pd.DataFrame(X_test)\n",
    "x_trn = pd.DataFrame(x_trn)"
   ]
  },
  {
   "cell_type": "markdown",
   "metadata": {},
   "source": [
    "numeric_transformer = Pipeline(memory ='./' ,steps=[\n",
    "                       ('scaler', StandardScaler())])"
   ]
  },
  {
   "cell_type": "markdown",
   "metadata": {},
   "source": [
    "categorical_transformer = Pipeline(memory = './',steps=[\n",
    "    ('imputer', SimpleImputer(strategy='most_frequent', fill_value='missing')),\n",
    "    ('onehot', OneHotEncoder(handle_unknown='ignore'))])"
   ]
  },
  {
   "cell_type": "markdown",
   "metadata": {},
   "source": [
    "preprocessor = ColumnTransformer(\n",
    "    transformers=[\n",
    "        ('num', numeric_transformer, num_attr)])"
   ]
  },
  {
   "cell_type": "markdown",
   "metadata": {},
   "source": [
    "## Creating a pipeline for most used Classifiers"
   ]
  },
  {
   "cell_type": "markdown",
   "metadata": {},
   "source": [
    "### Logistic Regression"
   ]
  },
  {
   "cell_type": "code",
   "execution_count": 227,
   "metadata": {},
   "outputs": [],
   "source": [
    "pipe_lr = Pipeline([\n",
    "\t\t\t('clf', LogisticRegression())])\n",
    "\n",
    "pipe_lr_pca = Pipeline([\n",
    "\t\t\t('pca', PCA(n_components=2)),\n",
    "\t\t\t('clf', LogisticRegression())])"
   ]
  },
  {
   "cell_type": "markdown",
   "metadata": {},
   "source": [
    "### Random Forest"
   ]
  },
  {
   "cell_type": "code",
   "execution_count": 228,
   "metadata": {},
   "outputs": [],
   "source": [
    "pipe_rf = Pipeline([\n",
    "            ('clf', RandomForestClassifier(max_features = 'sqrt'))])\n",
    "\n",
    "\n",
    "pipe_rf_pca = Pipeline([\n",
    "\t\t\t('pca', PCA(n_components=2)),\n",
    "\t\t\t('clf', RandomForestClassifier())])\n"
   ]
  },
  {
   "cell_type": "markdown",
   "metadata": {},
   "source": [
    "### SVM"
   ]
  },
  {
   "cell_type": "code",
   "execution_count": 229,
   "metadata": {},
   "outputs": [],
   "source": [
    "pipe_svm = Pipeline([\n",
    "\t\t\t('clf', svm.SVC(probability = True))])\n",
    "\n",
    "pipe_svm_pca = Pipeline([\n",
    "\t\t\t('pca', PCA(n_components=2)),\n",
    "\t\t\t('clf', svm.SVC(probability = True))])"
   ]
  },
  {
   "cell_type": "markdown",
   "metadata": {},
   "source": [
    "### Bagging Classifier"
   ]
  },
  {
   "cell_type": "code",
   "execution_count": 230,
   "metadata": {},
   "outputs": [],
   "source": [
    "BBC = Pipeline([\n",
    "    ('clf', BaggingClassifier(base_estimator= XGBClassifier(colsample_bytree=0.5, gamma=1.5, learning_rate= 0.05, n_estimators= 100)))])"
   ]
  },
  {
   "cell_type": "markdown",
   "metadata": {},
   "source": [
    "### Boosting Models (i.e AdaBoost, GBM, XGBoost, CATBoost)"
   ]
  },
  {
   "cell_type": "code",
   "execution_count": 231,
   "metadata": {},
   "outputs": [],
   "source": [
    "Adaboost_model_clf = Pipeline([\n",
    "                     ('clf', AdaBoostClassifier())])\n",
    "GBM_model_clf = Pipeline([\n",
    "                     ('clf', GradientBoostingClassifier())])\n",
    "XGB_model_clf = Pipeline([\n",
    "                     ('clf', XGBClassifier())])\n",
    "CAT_model_clf = Pipeline([\n",
    "                     ('clf', CatBoostClassifier())])\n"
   ]
  },
  {
   "cell_type": "markdown",
   "metadata": {},
   "source": [
    "## Setting GridSearch Parameters"
   ]
  },
  {
   "cell_type": "code",
   "execution_count": 232,
   "metadata": {},
   "outputs": [],
   "source": [
    "# Set grid search params\n",
    "param_range = [1, 2, 3, 4, 5, 6, 7, 8,9,10]\n",
    "param_range_fl = [1.0, 0.5, 0.1]\n",
    "\n",
    "grid_params_lr = [{'clf__penalty': ['l2'],\n",
    "\t\t'clf__C': [1,2,3,4],\n",
    "\t\t'clf__solver': ['liblinear']}] \n",
    "\n",
    "grid_params_rf = [{##'clf__criterion': [ 'entropy'],\n",
    "        'clf__n_estimators' : [500],\n",
    "\t\t'clf__min_samples_leaf': [2,4],\n",
    "\t\t'clf__max_depth': [10,12],\n",
    "\t\t'clf__min_samples_split': [2,4]\n",
    "            }]\n",
    "\n",
    "param_grid_ada = [{'clf__n_estimators' : [ 200,500,600],\n",
    "                    'clf__learning_rate' : [0.1, 0.5, 0.9,0.8,1.2],\n",
    "                  'clf__base_estimator' :[DecisionTreeClassifier(max_depth=2)] }]\n",
    "\n",
    "param_grid_GBM = [{ \"clf__n_estimators\" : [100,150,300],\n",
    "                   \"clf__max_depth\" : [5, 10,15],\n",
    "                   \"clf__learning_rate\" : [0.1,0.2,0.15]}]\n",
    "\n",
    "param_grid_XGB =[{  'clf__colsample_bytree': [0.5],\n",
    "                    'clf__n_estimators':[500],\n",
    "                    'clf__max_depth': [10],\n",
    "                    'clf__learning_rate' : [0.05],\n",
    "                    'clf__gamma': [ 1.5]}]\n",
    "\n",
    "grid_params_svm = [{'clf__kernel': [ 'rbf'], \n",
    "\t\t'clf__C': [10]}]\n",
    "grid_params_BBC = [{'clf__n_estimators' : [15],\n",
    "                   'clf__max_features' : [8]}]\n",
    "param_grid_CAT = [{'clf__depth': [5],\n",
    "          'clf__learning_rate' : [0.05],\n",
    "         'clf__l2_leaf_reg': [1],\n",
    "         'clf__iterations': [500]}]"
   ]
  },
  {
   "cell_type": "markdown",
   "metadata": {},
   "source": [
    "## Defining GridSearch for all the algo's defined in the Pipeline"
   ]
  },
  {
   "cell_type": "code",
   "execution_count": 233,
   "metadata": {},
   "outputs": [],
   "source": [
    "# Construct grid searches\n",
    "jobs = -1\n",
    "kfold = KFold(n_splits=5, random_state=234)\n",
    "\n",
    "gs_lr = GridSearchCV(estimator=pipe_lr,\n",
    "\t\t\tparam_grid=grid_params_lr,\n",
    "\t\t\tscoring='f1',\n",
    "\t\t\tcv=5,n_jobs = jobs) \n",
    "\t\t\t\n",
    "gs_lr_pca = GridSearchCV(estimator=pipe_lr_pca,\n",
    "\t\t\tparam_grid=grid_params_lr,\n",
    "\t\t\tscoring='accuracy',\n",
    "\t\t\tcv=5)"
   ]
  },
  {
   "cell_type": "code",
   "execution_count": 234,
   "metadata": {},
   "outputs": [],
   "source": [
    "gs_rf = GridSearchCV(estimator=pipe_rf,\n",
    "\t\t\tparam_grid=grid_params_rf,\n",
    "\t\t\tscoring='accuracy',\n",
    "\t\t\tcv=4, \n",
    "\t\t\tn_jobs=jobs)\n",
    "\n",
    "\n",
    "gs_rf_pca = GridSearchCV(estimator=pipe_rf_pca,\n",
    "\t\t\tparam_grid=grid_params_rf,\n",
    "\t\t\tscoring='accuracy',\n",
    "\t\t\tcv=5, \n",
    "\t\t\tn_jobs=jobs)"
   ]
  },
  {
   "cell_type": "code",
   "execution_count": 235,
   "metadata": {},
   "outputs": [],
   "source": [
    "gs_ada = GridSearchCV(estimator=Adaboost_model_clf,\n",
    "\t\t\tparam_grid=param_grid_ada,\n",
    "\t\t\tscoring='f1',\n",
    "\t\t\tcv=2, \n",
    "\t\t\tn_jobs=jobs)\n",
    "\n",
    "gs_GBM = GridSearchCV(estimator=GBM_model_clf,\n",
    "\t\t\tparam_grid=param_grid_GBM,\n",
    "\t\t\tscoring='accuracy',\n",
    "\t\t\tcv=2, \n",
    "\t\t\tn_jobs=jobs)\n",
    "\n",
    "gs_XGB = GridSearchCV(estimator=XGB_model_clf,\n",
    "\t\t\tparam_grid=param_grid_XGB,\n",
    "\t\t\tscoring='f1',\n",
    "\t\t\tcv=kfold, \n",
    "\t\t\tn_jobs=jobs)\n",
    "\n",
    "gs_BBC = GridSearchCV(estimator=BBC,\n",
    "\t\t\tparam_grid=grid_params_BBC,\n",
    "\t\t\tscoring='f1',\n",
    "\t\t\tcv=5, \n",
    "\t\t\tn_jobs=jobs)\n",
    "gs_CAT = GridSearchCV(estimator=CAT_model_clf,\n",
    "\t\t\tparam_grid=param_grid_CAT,\n",
    "\t\t\tscoring='f1',\n",
    "\t\t\tcv=5, \n",
    "\t\t\tn_jobs=jobs)"
   ]
  },
  {
   "cell_type": "code",
   "execution_count": 236,
   "metadata": {},
   "outputs": [],
   "source": [
    "gs_svm = GridSearchCV(estimator=pipe_svm,\n",
    "\t\t\tparam_grid=grid_params_svm,\n",
    "\t\t\tscoring='accuracy',\n",
    "\t\t\tcv=3,\n",
    "\t\t\tn_jobs=jobs)\n",
    "\n",
    "gs_svm_pca = GridSearchCV(estimator=pipe_svm_pca,\n",
    "\t\t\tparam_grid=grid_params_svm,\n",
    "\t\t\tscoring='accuracy',\n",
    "\t\t\tcv=3,\n",
    "\t\t\tn_jobs=jobs)"
   ]
  },
  {
   "cell_type": "markdown",
   "metadata": {},
   "source": [
    "## Creating list of gridsearch parameters and dictonary for automatinc Pipeline implimentation\n"
   ]
  },
  {
   "cell_type": "code",
   "execution_count": 150,
   "metadata": {},
   "outputs": [],
   "source": [
    "grids = [gs_rf, gs_svm, gs_lr]\n",
    "\n",
    "grid_dict = { 2: 'Logistic Regression', 0: \"Random Forest\",1 : \"SVM\"}"
   ]
  },
  {
   "cell_type": "markdown",
   "metadata": {},
   "source": [
    "# Run only if required );"
   ]
  },
  {
   "cell_type": "markdown",
   "metadata": {},
   "source": [
    "## Exicuting Pipeline and Checking ROC"
   ]
  },
  {
   "cell_type": "code",
   "execution_count": 92,
   "metadata": {},
   "outputs": [
    {
     "name": "stdout",
     "output_type": "stream",
     "text": [
      "Performing model optimizations...\n",
      "\n",
      "Estimator: Random Forest\n",
      "Best params: {'clf__max_depth': 12, 'clf__min_samples_leaf': 2, 'clf__min_samples_split': 2, 'clf__n_estimators': 500}\n",
      "Best training accuracy: 0.930\n",
      "0.9487250940504389\n",
      "Test set accuracy score for best params: 0.342 \n",
      "[[8405  525]\n",
      " [ 251  202]]\n",
      "AUC: 0.996\n"
     ]
    },
    {
     "data": {
      "image/png": "[encoded data removed]",
      "text/plain": [
       "<Figure size 432x288 with 1 Axes>"
      ]
     },
     "metadata": {},
     "output_type": "display_data"
    },
    {
     "name": "stdout",
     "output_type": "stream",
     "text": [
      "\n",
      "Classifier with best test set accuracy: Random Forest\n"
     ]
    }
   ],
   "source": [
    "# Fit the grid search objects\n",
    "print('Performing model optimizations...')\n",
    "best_acc = 0.0\n",
    "best_clf = 0\n",
    "best_gs = ''\n",
    "for idx, gs in enumerate(grids):\n",
    "    print('\\nEstimator: %s' % grid_dict[idx])\t\n",
    "    # Fit grid search\t\n",
    "    gs.fit(X_train_res, y_train_res)\n",
    "    # Best params\n",
    "    print('Best params: %s' % gs.best_params_)\n",
    "    # Best training data accuracy\n",
    "    print('Best training accuracy: %.3f' % gs.best_score_)\n",
    "    # Predict on test data with best params\n",
    "    pred = gs.predict(X_train_res)\n",
    "    print(f1_score(y_train_res, pred))\n",
    "    y_pred = gs.predict(X_test)\n",
    "    # Test data accuracy of model with best params\n",
    "    print('Test set accuracy score for best params: %.3f ' % f1_score(y_test, y_pred))\n",
    "    print(confusion_matrix(y_test,y_pred))\n",
    "    # Track best (highest test accuracy) model\n",
    "    \n",
    "    probs = gs.predict_proba(X_train_res)\n",
    "    probs = probs[:, 1]\n",
    "    auc = roc_auc_score(y_train_res, probs)\n",
    "    print('AUC: %.3f' % auc)\n",
    "    fpr, tpr, thresholds = roc_curve(y_train_res, probs)\n",
    "    plt.plot([0, 1], [0, 1], linestyle='--')\n",
    "    plt.plot(fpr, tpr, marker='.')\n",
    "    plt.show()\n",
    "    if f1_score(y_test, y_pred) > best_acc:\n",
    "        best_acc = f1_score(y_test, y_pred)\n",
    "        best_gs = gs\n",
    "        best_clf = idx\n",
    "print('\\nClassifier with best test set accuracy: %s' % grid_dict[best_clf])"
   ]
  },
  {
   "cell_type": "markdown",
   "metadata": {},
   "source": [
    "## ADABoost "
   ]
  },
  {
   "cell_type": "code",
   "execution_count": null,
   "metadata": {
    "scrolled": true
   },
   "outputs": [],
   "source": [
    "print('\\nEstimator: Ada Boost')\n",
    "gs_ada.fit(X_train_res, y_train_res)\n",
    "print('Best params: %s' % gs_ada.best_params_)\n",
    "print('Best training F1 Score: %.3f' % gs_ada.best_score_)\n",
    "y_pred = gs_ada.predict(X_test)\n",
    "\t# Test data accuracy of model with best params\n",
    "print('Test set accuracy score for best params: %.3f ' % f1_score(y_test, y_pred))"
   ]
  },
  {
   "cell_type": "markdown",
   "metadata": {},
   "source": [
    "## GBM"
   ]
  },
  {
   "cell_type": "code",
   "execution_count": null,
   "metadata": {},
   "outputs": [],
   "source": [
    "print('\\nEstimator: %s' % grid_dict[0])\n",
    "gs_GBM.fit(X_train, y_train)\n",
    "print('Best params: %s' % gs_GBM.best_params_)\n",
    "print('Best training accuracy: %.3f' % gs_GBM.best_score_)\n",
    "y_pred = gs_GBM.predict(X_test)\n",
    "\t# Test data accuracy of model with best params\n",
    "print('Test set accuracy score for best params: %.3f ' % accuracy_score(y_test, y_pred))"
   ]
  },
  {
   "cell_type": "markdown",
   "metadata": {},
   "source": [
    "## XGBoost Using Gridsearch"
   ]
  },
  {
   "cell_type": "code",
   "execution_count": 52,
   "metadata": {
    "scrolled": true
   },
   "outputs": [
    {
     "name": "stdout",
     "output_type": "stream",
     "text": [
      "Best params: {'clf__colsample_bytree': 0.5, 'clf__gamma': 1.5, 'clf__learning_rate': 0.05, 'clf__max_depth': 10, 'clf__n_estimators': 500}\n",
      "Best training accuracy: 0.387\n",
      "Test set accuracy score for best params: 0.599 \n"
     ]
    }
   ],
   "source": [
    "##print('\\nEstimator: %s' % grid_dict[0])\n",
    "gs_XGB.fit(X_train_res, y_train_res)\n",
    "print('Best params: %s' % gs_XGB.best_params_)\n",
    "print('Best training accuracy: %.3f' % gs_XGB.best_score_)\n",
    "y_pred = gs_XGB.predict(X_test)\n",
    "\t# Test data accuracy of model with best params\n",
    "print('Test set accuracy score for best params: %.3f ' % f1_score(y_test, y_pred))"
   ]
  },
  {
   "cell_type": "code",
   "execution_count": 79,
   "metadata": {},
   "outputs": [
    {
     "data": {
      "text/plain": [
       "0.3323262839879154"
      ]
     },
     "execution_count": 79,
     "metadata": {},
     "output_type": "execute_result"
    }
   ],
   "source": [
    "probs = gs_XGB.predict(X_test1)\n",
    "f1_score(y_test1,probs)"
   ]
  },
  {
   "cell_type": "code",
   "execution_count": 245,
   "metadata": {},
   "outputs": [
    {
     "name": "stdout",
     "output_type": "stream",
     "text": [
      "AUC: 0.997\n"
     ]
    },
    {
     "data": {
      "image/png": "[encoded data removed]",
      "text/plain": [
       "<Figure size 432x288 with 1 Axes>"
      ]
     },
     "metadata": {},
     "output_type": "display_data"
    }
   ],
   "source": [
    "probs = gs_XGB.predict_proba(X_test)\n",
    "probs = probs[:, 1]\n",
    "auc = roc_auc_score(y_test, probs)\n",
    "print('AUC: %.3f' % auc)\n",
    "fpr, tpr, thresholds = roc_curve(y_test, probs)\n",
    "plt.plot([0, 1], [0, 1], linestyle='--')\n",
    "plt.plot(fpr, tpr, marker='.')\n",
    "plt.show()\n",
    "\n",
    "##y_pred1 = gs_XGB.predict(x_trn)"
   ]
  },
  {
   "cell_type": "code",
   "execution_count": null,
   "metadata": {},
   "outputs": [],
   "source": [
    "y_pred1 = gs_XGB.predict(x_trn)"
   ]
  },
  {
   "cell_type": "markdown",
   "metadata": {},
   "source": [
    "## Exicution of Ensomble Re-Sampling using AdaBoost "
   ]
  },
  {
   "cell_type": "code",
   "execution_count": null,
   "metadata": {},
   "outputs": [],
   "source": [
    "y_pred_proba = np.zeros(len(y_test))\n",
    "for idx in range(len(y_train_res)):\n",
    "    clf_base = AdaBoostClassifier()\n",
    "    grid = {'n_estimators': [100,500],\n",
    "           'learning_rate' : [0.1, 0.5,1.2]}\n",
    "\n",
    "    cv = KFold(X_train_res.shape[0], shuffle=True, random_state=234)\n",
    "    clf = GridSearchCV(clf_base, grid, cv=cv, scoring='f1')\n",
    "    clf.fit(X_train_res[idx], y_train_res[idx])\n",
    "    y_pred_proba += list(zip(*clf.predict_proba(X_test)))[0]"
   ]
  },
  {
   "cell_type": "code",
   "execution_count": null,
   "metadata": {},
   "outputs": [],
   "source": [
    "y_pred_proba = y_pred_proba/len(y_train_res)\n",
    "y_pred = (y_pred_proba > 0.5).astype(int)\n",
    "print (classification_report(y_test, y_pred))"
   ]
  },
  {
   "cell_type": "code",
   "execution_count": null,
   "metadata": {
    "scrolled": true
   },
   "outputs": [],
   "source": [
    "x = y_pred1\n",
    "x"
   ]
  },
  {
   "cell_type": "code",
   "execution_count": null,
   "metadata": {
    "scrolled": true
   },
   "outputs": [],
   "source": [
    "df = pd.DataFrame(x,columns=['prediction'])\n",
    "df['ID'] = x_trn.index\n",
    "df = df[['ID','prediction']]\n",
    "df"
   ]
  },
  {
   "cell_type": "code",
   "execution_count": null,
   "metadata": {},
   "outputs": [],
   "source": [
    "df.to_csv('ss.csv',index=None,header=True)"
   ]
  },
  {
   "cell_type": "markdown",
   "metadata": {},
   "source": [
    "## Bagging Classifier with XGBoost and Decission Tree"
   ]
  },
  {
   "cell_type": "code",
   "execution_count": 108,
   "metadata": {},
   "outputs": [
    {
     "name": "stdout",
     "output_type": "stream",
     "text": [
      "Best params: {'clf__max_features': 8, 'clf__n_estimators': 15}\n",
      "Best training accuracy: 0.752\n",
      "Test set accuracy score for best params: 0.286 \n"
     ]
    }
   ],
   "source": [
    "#print('\\nEstimator: %s' % grid_dict[0])\n",
    "gs_BBC.fit(X_train_res, y_train_res)\n",
    "print('Best params: %s' % gs_BBC.best_params_)\n",
    "print('Best training accuracy: %.3f' % gs_BBC.best_score_)\n",
    "y_pred = gs_BBC.predict(X_test)\n",
    "\t# Test data accuracy of model with best params\n",
    "print('Test set accuracy score for best params: %.3f ' % f1_score(y_test, y_pred))"
   ]
  },
  {
   "cell_type": "markdown",
   "metadata": {},
   "source": [
    "## CATBoost Manual tuning"
   ]
  },
  {
   "cell_type": "code",
   "execution_count": 237,
   "metadata": {
    "scrolled": true
   },
   "outputs": [],
   "source": [
    "\n",
    "#print('\\nEstimator: %s' % grid_dict[0])\n",
    "CAT = CatBoostClassifier(iterations = 100,learning_rate = 0.05,depth = 10,l2_leaf_reg = 0.5,eval_metric = 'F1',)\n",
    "CAT.fit(X_train_res, y_train_res)"
   ]
  },
  {
   "cell_type": "code",
   "execution_count": 166,
   "metadata": {},
   "outputs": [
    {
     "name": "stdout",
     "output_type": "stream",
     "text": [
      "Test set accuracy score for best params: 0.962 \n",
      "Test set accuracy score for best params: 0.602 \n"
     ]
    }
   ],
   "source": [
    "preds = CAT.predict(X_train_res)\n",
    "\t# Test data accuracy of model with best params\n",
    "print('train set accuracy score for best params: %.3f ' % f1_score(y_train_res, preds))\n",
    "\n",
    "y_pred = CAT.predict(X_test)\n",
    "\t# Test data accuracy of model with best params\n",
    "print('Test set accuracy score for best params: %.3f ' % f1_score(y_test, y_pred))"
   ]
  },
  {
   "cell_type": "markdown",
   "metadata": {},
   "source": [
    "## ADABoost Manual Tuning"
   ]
  },
  {
   "cell_type": "code",
   "execution_count": 187,
   "metadata": {},
   "outputs": [
    {
     "data": {
      "text/plain": [
       "AdaBoostClassifier(algorithm='SAMME.R',\n",
       "          base_estimator=DecisionTreeClassifier(class_weight=None, criterion='gini', max_depth=10,\n",
       "            max_features=None, max_leaf_nodes=None,\n",
       "            min_impurity_decrease=0.0, min_impurity_split=None,\n",
       "            min_samples_leaf=1, min_samples_split=2,\n",
       "            min_weight_fraction_leaf=0.0, presort=False, random_state=None,\n",
       "            splitter='best'),\n",
       "          learning_rate=0.05, n_estimators=500, random_state=None)"
      ]
     },
     "execution_count": 187,
     "metadata": {},
     "output_type": "execute_result"
    }
   ],
   "source": [
    "ADAb = AdaBoostClassifier(base_estimator = (DecisionTreeClassifier(max_depth=10)),n_estimators = 500,learning_rate=0.05)\n",
    "ADAb.fit(X_train_res, y_train_res)"
   ]
  },
  {
   "cell_type": "code",
   "execution_count": 188,
   "metadata": {
    "scrolled": true
   },
   "outputs": [
    {
     "name": "stdout",
     "output_type": "stream",
     "text": [
      "Test set accuracy score for best params: 1.000 \n",
      "Test set accuracy score for best params: 0.605 \n"
     ]
    }
   ],
   "source": [
    "preds = ADAb.predict(X_train_res)\n",
    "\t# Test data accuracy of model with best params\n",
    "print('Test set accuracy score for best params: %.3f ' % f1_score(y_train_res, preds))\n",
    "\n",
    "y_pred = ADAb.predict(X_test)\n",
    "\t# Test data accuracy of model with best params\n",
    "print('Test set accuracy score for best params: %.3f ' % f1_score(y_test, y_pred))"
   ]
  },
  {
   "cell_type": "markdown",
   "metadata": {},
   "source": [
    "## Function for feature importance"
   ]
  },
  {
   "cell_type": "code",
   "execution_count": 154,
   "metadata": {},
   "outputs": [],
   "source": [
    "def feat_importance(best_features,algo):\n",
    "    col = X_train_res.columns\n",
    "    #modelname.feature_importance_\n",
    "    y = best_features\n",
    "    #plot\n",
    "    fig, ax = plt.subplots() \n",
    "    width = 0.4 # the width of the bars \n",
    "    ind = np.arange(len(y)) # the x locations for the groups\n",
    "    ax.barh(ind, y, width, color=\"green\")\n",
    "    ax.set_yticks(ind+width/10)\n",
    "    ax.set_yticklabels(col, minor=False)\n",
    "    plt.title('Feature importance in '+algo)\n",
    "    plt.xlabel('Relative importance')\n",
    "    plt.ylabel('feature') \n",
    "    plt.figure(figsize=(5,66))\n",
    "    fig.set_size_inches(6.5, 15, forward=True)\n"
   ]
  },
  {
   "cell_type": "markdown",
   "metadata": {},
   "source": [
    "## XGBoost with manual tuning "
   ]
  },
  {
   "cell_type": "code",
   "execution_count": 151,
   "metadata": {},
   "outputs": [
    {
     "name": "stdout",
     "output_type": "stream",
     "text": [
      "Test set accuracy score for best params: 1.000 \n",
      "Test set accuracy score for best params: 0.674 \n"
     ]
    }
   ],
   "source": [
    "XG = XGBClassifier(colsample_bytree= 0.7,\n",
    "                    n_estimators = 600,\n",
    "                    max_depth= 10,\n",
    "                    learning_rate = 0.05,\n",
    "                    gamma= 1,subsample = 0.8,reg_alpha = 0.5,reg_lambda = 0.5,scale_pos_weight = 1.96,min_child_weight = 5)\n",
    "##print('\\nEstimator: %s' % grid_dict[0])\n",
    "XG.fit(X_train_res, y_train_res)\n",
    "y_pred = XG.predict(X_test)\n",
    "preds = XG.predict(X_train_res)\n",
    "\t# Test data accuracy of model with best params\n",
    "print('Test set accuracy score for best params: %.3f ' % f1_score(y_train_res, preds))\n",
    "print('Test set accuracy score for best params: %.3f ' % f1_score(y_test, y_pred))\n"
   ]
  },
  {
   "cell_type": "code",
   "execution_count": null,
   "metadata": {},
   "outputs": [],
   "source": [
    "y_pred1 = XG.predict(x_trn)\n"
   ]
  },
  {
   "cell_type": "markdown",
   "metadata": {},
   "source": [
    "## Voting Classifier\n",
    "### This Method is a kind of Stacking (0_0)"
   ]
  },
  {
   "cell_type": "code",
   "execution_count": 238,
   "metadata": {},
   "outputs": [],
   "source": [
    "VCF = VotingClassifier(estimators=[('CAT', CAT), ('ADAB', ADAb), ('xgb',XG)], voting='soft')"
   ]
  },
  {
   "cell_type": "code",
   "execution_count": 239,
   "metadata": {
    "scrolled": true
   },
   "outputs": [
    {
     "name": "stdout",
     "output_type": "stream",
     "text": [
      "0:\tlearn: 0.8019660\ttotal: 1.96s\tremaining: 3m 14s\n",
      "1:\tlearn: 0.8186779\ttotal: 3.89s\tremaining: 3m 10s\n",
      "2:\tlearn: 0.8324162\ttotal: 5.78s\tremaining: 3m 7s\n",
      "3:\tlearn: 0.8448170\ttotal: 7.66s\tremaining: 3m 3s\n",
      "4:\tlearn: 0.8491580\ttotal: 9.54s\tremaining: 3m 1s\n",
      "5:\tlearn: 0.8520098\ttotal: 11.4s\tremaining: 2m 59s\n",
      "6:\tlearn: 0.8509210\ttotal: 13.3s\tremaining: 2m 57s\n",
      "7:\tlearn: 0.8523287\ttotal: 15.2s\tremaining: 2m 55s\n",
      "8:\tlearn: 0.8577487\ttotal: 17.1s\tremaining: 2m 52s\n",
      "9:\tlearn: 0.8608740\ttotal: 19s\tremaining: 2m 50s\n",
      "10:\tlearn: 0.8608928\ttotal: 20.9s\tremaining: 2m 48s\n",
      "11:\tlearn: 0.8737638\ttotal: 22.8s\tremaining: 2m 46s\n",
      "12:\tlearn: 0.8761343\ttotal: 24.6s\tremaining: 2m 44s\n",
      "13:\tlearn: 0.8778885\ttotal: 26.5s\tremaining: 2m 42s\n",
      "14:\tlearn: 0.8794891\ttotal: 28.4s\tremaining: 2m 41s\n",
      "15:\tlearn: 0.8787292\ttotal: 30.3s\tremaining: 2m 39s\n",
      "16:\tlearn: 0.8805665\ttotal: 32.2s\tremaining: 2m 37s\n",
      "17:\tlearn: 0.8853726\ttotal: 34.1s\tremaining: 2m 35s\n",
      "18:\tlearn: 0.8930026\ttotal: 35.9s\tremaining: 2m 33s\n",
      "19:\tlearn: 0.8945666\ttotal: 37.8s\tremaining: 2m 31s\n",
      "20:\tlearn: 0.9002721\ttotal: 39.6s\tremaining: 2m 29s\n",
      "21:\tlearn: 0.9020148\ttotal: 41.5s\tremaining: 2m 27s\n",
      "22:\tlearn: 0.9045998\ttotal: 43.4s\tremaining: 2m 25s\n",
      "23:\tlearn: 0.9056946\ttotal: 45.2s\tremaining: 2m 23s\n",
      "24:\tlearn: 0.9087614\ttotal: 47.1s\tremaining: 2m 21s\n",
      "25:\tlearn: 0.9104364\ttotal: 49s\tremaining: 2m 19s\n",
      "26:\tlearn: 0.9121369\ttotal: 51.2s\tremaining: 2m 18s\n",
      "27:\tlearn: 0.9120975\ttotal: 53.5s\tremaining: 2m 17s\n",
      "28:\tlearn: 0.9152150\ttotal: 55.4s\tremaining: 2m 15s\n",
      "29:\tlearn: 0.9150270\ttotal: 57.2s\tremaining: 2m 13s\n",
      "30:\tlearn: 0.9153132\ttotal: 59.1s\tremaining: 2m 11s\n",
      "31:\tlearn: 0.9173760\ttotal: 1m 1s\tremaining: 2m 9s\n",
      "32:\tlearn: 0.9187955\ttotal: 1m 2s\tremaining: 2m 7s\n",
      "33:\tlearn: 0.9204508\ttotal: 1m 4s\tremaining: 2m 5s\n",
      "34:\tlearn: 0.9217228\ttotal: 1m 6s\tremaining: 2m 3s\n",
      "35:\tlearn: 0.9234275\ttotal: 1m 8s\tremaining: 2m 1s\n",
      "36:\tlearn: 0.9253623\ttotal: 1m 10s\tremaining: 1m 59s\n",
      "37:\tlearn: 0.9252728\ttotal: 1m 12s\tremaining: 1m 57s\n",
      "38:\tlearn: 0.9259941\ttotal: 1m 14s\tremaining: 1m 55s\n",
      "39:\tlearn: 0.9264823\ttotal: 1m 15s\tremaining: 1m 53s\n",
      "40:\tlearn: 0.9270969\ttotal: 1m 17s\tremaining: 1m 52s\n",
      "41:\tlearn: 0.9283446\ttotal: 1m 19s\tremaining: 1m 50s\n",
      "42:\tlearn: 0.9290634\ttotal: 1m 21s\tremaining: 1m 48s\n",
      "43:\tlearn: 0.9296709\ttotal: 1m 23s\tremaining: 1m 46s\n",
      "44:\tlearn: 0.9313280\ttotal: 1m 25s\tremaining: 1m 44s\n",
      "45:\tlearn: 0.9321508\ttotal: 1m 27s\tremaining: 1m 42s\n",
      "46:\tlearn: 0.9326608\ttotal: 1m 29s\tremaining: 1m 40s\n",
      "47:\tlearn: 0.9332853\ttotal: 1m 31s\tremaining: 1m 38s\n",
      "48:\tlearn: 0.9335878\ttotal: 1m 33s\tremaining: 1m 36s\n",
      "49:\tlearn: 0.9346050\ttotal: 1m 35s\tremaining: 1m 35s\n",
      "50:\tlearn: 0.9360248\ttotal: 1m 36s\tremaining: 1m 33s\n",
      "51:\tlearn: 0.9375427\ttotal: 1m 38s\tremaining: 1m 31s\n",
      "52:\tlearn: 0.9379563\ttotal: 1m 40s\tremaining: 1m 29s\n",
      "53:\tlearn: 0.9391073\ttotal: 1m 42s\tremaining: 1m 27s\n",
      "54:\tlearn: 0.9401402\ttotal: 1m 44s\tremaining: 1m 25s\n",
      "55:\tlearn: 0.9405293\ttotal: 1m 46s\tremaining: 1m 23s\n",
      "56:\tlearn: 0.9417218\ttotal: 1m 48s\tremaining: 1m 21s\n",
      "57:\tlearn: 0.9420858\ttotal: 1m 50s\tremaining: 1m 19s\n",
      "58:\tlearn: 0.9420774\ttotal: 1m 52s\tremaining: 1m 18s\n",
      "59:\tlearn: 0.9427113\ttotal: 1m 54s\tremaining: 1m 16s\n",
      "60:\tlearn: 0.9440512\ttotal: 1m 56s\tremaining: 1m 14s\n",
      "61:\tlearn: 0.9448836\ttotal: 1m 58s\tremaining: 1m 12s\n",
      "62:\tlearn: 0.9450297\ttotal: 2m\tremaining: 1m 10s\n",
      "63:\tlearn: 0.9455944\ttotal: 2m 2s\tremaining: 1m 8s\n",
      "64:\tlearn: 0.9460032\ttotal: 2m 3s\tremaining: 1m 6s\n",
      "65:\tlearn: 0.9461995\ttotal: 2m 5s\tremaining: 1m 4s\n",
      "66:\tlearn: 0.9465929\ttotal: 2m 7s\tremaining: 1m 2s\n",
      "67:\tlearn: 0.9469221\ttotal: 2m 9s\tremaining: 1m\n",
      "68:\tlearn: 0.9475197\ttotal: 2m 11s\tremaining: 59s\n",
      "69:\tlearn: 0.9481093\ttotal: 2m 13s\tremaining: 57.1s\n",
      "70:\tlearn: 0.9489444\ttotal: 2m 15s\tremaining: 55.2s\n",
      "71:\tlearn: 0.9500467\ttotal: 2m 17s\tremaining: 53.3s\n",
      "72:\tlearn: 0.9506797\ttotal: 2m 18s\tremaining: 51.4s\n",
      "73:\tlearn: 0.9509125\ttotal: 2m 20s\tremaining: 49.4s\n",
      "74:\tlearn: 0.9511994\ttotal: 2m 22s\tremaining: 47.5s\n",
      "75:\tlearn: 0.9516742\ttotal: 2m 24s\tremaining: 45.6s\n",
      "76:\tlearn: 0.9519986\ttotal: 2m 26s\tremaining: 43.7s\n",
      "77:\tlearn: 0.9520703\ttotal: 2m 28s\tremaining: 41.8s\n",
      "78:\tlearn: 0.9531418\ttotal: 2m 30s\tremaining: 39.9s\n",
      "79:\tlearn: 0.9533259\ttotal: 2m 31s\tremaining: 38s\n",
      "80:\tlearn: 0.9536500\ttotal: 2m 33s\tremaining: 36.1s\n",
      "81:\tlearn: 0.9537282\ttotal: 2m 35s\tremaining: 34.1s\n",
      "82:\tlearn: 0.9539398\ttotal: 2m 37s\tremaining: 32.2s\n",
      "83:\tlearn: 0.9545357\ttotal: 2m 39s\tremaining: 30.3s\n",
      "84:\tlearn: 0.9551961\ttotal: 2m 41s\tremaining: 28.4s\n",
      "85:\tlearn: 0.9558839\ttotal: 2m 43s\tremaining: 26.5s\n",
      "86:\tlearn: 0.9564128\ttotal: 2m 44s\tremaining: 24.6s\n",
      "87:\tlearn: 0.9572436\ttotal: 2m 46s\tremaining: 22.7s\n",
      "88:\tlearn: 0.9572093\ttotal: 2m 48s\tremaining: 20.8s\n",
      "89:\tlearn: 0.9573616\ttotal: 2m 50s\tremaining: 19s\n",
      "90:\tlearn: 0.9579147\ttotal: 2m 53s\tremaining: 17.1s\n",
      "91:\tlearn: 0.9583467\ttotal: 2m 55s\tremaining: 15.2s\n",
      "92:\tlearn: 0.9584614\ttotal: 2m 57s\tremaining: 13.3s\n",
      "93:\tlearn: 0.9595198\ttotal: 2m 58s\tremaining: 11.4s\n",
      "94:\tlearn: 0.9595913\ttotal: 3m\tremaining: 9.51s\n",
      "95:\tlearn: 0.9595285\ttotal: 3m 2s\tremaining: 7.61s\n",
      "96:\tlearn: 0.9599343\ttotal: 3m 4s\tremaining: 5.71s\n",
      "97:\tlearn: 0.9610566\ttotal: 3m 6s\tremaining: 3.8s\n",
      "98:\tlearn: 0.9620380\ttotal: 3m 8s\tremaining: 1.9s\n",
      "99:\tlearn: 0.9622864\ttotal: 3m 10s\tremaining: 0us\n"
     ]
    },
    {
     "data": {
      "text/plain": [
       "VotingClassifier(estimators=[('CAT', <catboost.core.CatBoostClassifier object at 0x000002398F12F358>), ('ADAB', AdaBoostClassifier(algorithm='SAMME.R',\n",
       "          base_estimator=DecisionTreeClassifier(class_weight=None, criterion='gini', max_depth=10,\n",
       "            max_features=None, max_leaf_nodes=None,\n",
       "            mi...eg_alpha=0.5, reg_lambda=0.5, scale_pos_weight=1.96, seed=None,\n",
       "       silent=True, subsample=0.8))],\n",
       "         flatten_transform=None, n_jobs=None, voting='soft', weights=None)"
      ]
     },
     "execution_count": 239,
     "metadata": {},
     "output_type": "execute_result"
    }
   ],
   "source": [
    "VCF.fit(X_train_res,y_train_res)"
   ]
  },
  {
   "cell_type": "code",
   "execution_count": 249,
   "metadata": {},
   "outputs": [
    {
     "name": "stdout",
     "output_type": "stream",
     "text": [
      "Test set accuracy score for best params: 1.000 \n",
      "Test set accuracy score for best params: 0.661 \n"
     ]
    }
   ],
   "source": [
    "preds = VCF.predict(X_train_res)\n",
    "\t# Test data accuracy of model with best params\n",
    "print('Test set accuracy score for best params: %.3f ' % f1_score(y_train_res, preds))\n",
    "\n",
    "y_pred = VCF.predict(X_test)\n",
    "\t# Test data accuracy of model with best params\n",
    "print('Test set accuracy score for best params: %.3f ' % f1_score(y_test, y_pred))"
   ]
  },
  {
   "cell_type": "code",
   "execution_count": 250,
   "metadata": {},
   "outputs": [],
   "source": [
    "y_pred1 = VCF.predict(x_trn)"
   ]
  },
  {
   "cell_type": "code",
   "execution_count": 251,
   "metadata": {},
   "outputs": [
    {
     "data": {
      "text/plain": [
       "array([0, 0, 0, ..., 1, 1, 1], dtype=int64)"
      ]
     },
     "execution_count": 251,
     "metadata": {},
     "output_type": "execute_result"
    }
   ],
   "source": [
    "x = y_pred1\n",
    "x"
   ]
  },
  {
   "cell_type": "code",
   "execution_count": 252,
   "metadata": {
    "scrolled": true
   },
   "outputs": [
    {
     "data": {
      "text/html": [
       "<div>\n",
       "<style scoped>\n",
       "    .dataframe tbody tr th:only-of-type {\n",
       "        vertical-align: middle;\n",
       "    }\n",
       "\n",
       "    .dataframe tbody tr th {\n",
       "        vertical-align: top;\n",
       "    }\n",
       "\n",
       "    .dataframe thead th {\n",
       "        text-align: right;\n",
       "    }\n",
       "</style>\n",
       "<table border=\"1\" class=\"dataframe\">\n",
       "  <thead>\n",
       "    <tr style=\"text-align: right;\">\n",
       "      <th></th>\n",
       "      <th>ID</th>\n",
       "      <th>prediction</th>\n",
       "    </tr>\n",
       "  </thead>\n",
       "  <tbody>\n",
       "    <tr>\n",
       "      <th>0</th>\n",
       "      <td>0</td>\n",
       "      <td>0</td>\n",
       "    </tr>\n",
       "    <tr>\n",
       "      <th>1</th>\n",
       "      <td>1</td>\n",
       "      <td>0</td>\n",
       "    </tr>\n",
       "    <tr>\n",
       "      <th>2</th>\n",
       "      <td>2</td>\n",
       "      <td>0</td>\n",
       "    </tr>\n",
       "    <tr>\n",
       "      <th>3</th>\n",
       "      <td>3</td>\n",
       "      <td>0</td>\n",
       "    </tr>\n",
       "    <tr>\n",
       "      <th>4</th>\n",
       "      <td>4</td>\n",
       "      <td>0</td>\n",
       "    </tr>\n",
       "    <tr>\n",
       "      <th>5</th>\n",
       "      <td>5</td>\n",
       "      <td>0</td>\n",
       "    </tr>\n",
       "    <tr>\n",
       "      <th>6</th>\n",
       "      <td>6</td>\n",
       "      <td>0</td>\n",
       "    </tr>\n",
       "    <tr>\n",
       "      <th>7</th>\n",
       "      <td>7</td>\n",
       "      <td>0</td>\n",
       "    </tr>\n",
       "    <tr>\n",
       "      <th>8</th>\n",
       "      <td>8</td>\n",
       "      <td>0</td>\n",
       "    </tr>\n",
       "    <tr>\n",
       "      <th>9</th>\n",
       "      <td>9</td>\n",
       "      <td>0</td>\n",
       "    </tr>\n",
       "    <tr>\n",
       "      <th>10</th>\n",
       "      <td>10</td>\n",
       "      <td>0</td>\n",
       "    </tr>\n",
       "    <tr>\n",
       "      <th>11</th>\n",
       "      <td>11</td>\n",
       "      <td>0</td>\n",
       "    </tr>\n",
       "    <tr>\n",
       "      <th>12</th>\n",
       "      <td>12</td>\n",
       "      <td>0</td>\n",
       "    </tr>\n",
       "    <tr>\n",
       "      <th>13</th>\n",
       "      <td>13</td>\n",
       "      <td>0</td>\n",
       "    </tr>\n",
       "    <tr>\n",
       "      <th>14</th>\n",
       "      <td>14</td>\n",
       "      <td>0</td>\n",
       "    </tr>\n",
       "    <tr>\n",
       "      <th>15</th>\n",
       "      <td>15</td>\n",
       "      <td>0</td>\n",
       "    </tr>\n",
       "    <tr>\n",
       "      <th>16</th>\n",
       "      <td>16</td>\n",
       "      <td>0</td>\n",
       "    </tr>\n",
       "    <tr>\n",
       "      <th>17</th>\n",
       "      <td>17</td>\n",
       "      <td>0</td>\n",
       "    </tr>\n",
       "    <tr>\n",
       "      <th>18</th>\n",
       "      <td>18</td>\n",
       "      <td>0</td>\n",
       "    </tr>\n",
       "    <tr>\n",
       "      <th>19</th>\n",
       "      <td>19</td>\n",
       "      <td>0</td>\n",
       "    </tr>\n",
       "    <tr>\n",
       "      <th>20</th>\n",
       "      <td>20</td>\n",
       "      <td>0</td>\n",
       "    </tr>\n",
       "    <tr>\n",
       "      <th>21</th>\n",
       "      <td>21</td>\n",
       "      <td>0</td>\n",
       "    </tr>\n",
       "    <tr>\n",
       "      <th>22</th>\n",
       "      <td>22</td>\n",
       "      <td>0</td>\n",
       "    </tr>\n",
       "    <tr>\n",
       "      <th>23</th>\n",
       "      <td>23</td>\n",
       "      <td>0</td>\n",
       "    </tr>\n",
       "    <tr>\n",
       "      <th>24</th>\n",
       "      <td>24</td>\n",
       "      <td>0</td>\n",
       "    </tr>\n",
       "    <tr>\n",
       "      <th>25</th>\n",
       "      <td>25</td>\n",
       "      <td>0</td>\n",
       "    </tr>\n",
       "    <tr>\n",
       "      <th>26</th>\n",
       "      <td>26</td>\n",
       "      <td>0</td>\n",
       "    </tr>\n",
       "    <tr>\n",
       "      <th>27</th>\n",
       "      <td>27</td>\n",
       "      <td>0</td>\n",
       "    </tr>\n",
       "    <tr>\n",
       "      <th>28</th>\n",
       "      <td>28</td>\n",
       "      <td>0</td>\n",
       "    </tr>\n",
       "    <tr>\n",
       "      <th>29</th>\n",
       "      <td>29</td>\n",
       "      <td>0</td>\n",
       "    </tr>\n",
       "    <tr>\n",
       "      <th>...</th>\n",
       "      <td>...</td>\n",
       "      <td>...</td>\n",
       "    </tr>\n",
       "    <tr>\n",
       "      <th>6421</th>\n",
       "      <td>6421</td>\n",
       "      <td>1</td>\n",
       "    </tr>\n",
       "    <tr>\n",
       "      <th>6422</th>\n",
       "      <td>6422</td>\n",
       "      <td>0</td>\n",
       "    </tr>\n",
       "    <tr>\n",
       "      <th>6423</th>\n",
       "      <td>6423</td>\n",
       "      <td>1</td>\n",
       "    </tr>\n",
       "    <tr>\n",
       "      <th>6424</th>\n",
       "      <td>6424</td>\n",
       "      <td>0</td>\n",
       "    </tr>\n",
       "    <tr>\n",
       "      <th>6425</th>\n",
       "      <td>6425</td>\n",
       "      <td>1</td>\n",
       "    </tr>\n",
       "    <tr>\n",
       "      <th>6426</th>\n",
       "      <td>6426</td>\n",
       "      <td>0</td>\n",
       "    </tr>\n",
       "    <tr>\n",
       "      <th>6427</th>\n",
       "      <td>6427</td>\n",
       "      <td>1</td>\n",
       "    </tr>\n",
       "    <tr>\n",
       "      <th>6428</th>\n",
       "      <td>6428</td>\n",
       "      <td>0</td>\n",
       "    </tr>\n",
       "    <tr>\n",
       "      <th>6429</th>\n",
       "      <td>6429</td>\n",
       "      <td>1</td>\n",
       "    </tr>\n",
       "    <tr>\n",
       "      <th>6430</th>\n",
       "      <td>6430</td>\n",
       "      <td>1</td>\n",
       "    </tr>\n",
       "    <tr>\n",
       "      <th>6431</th>\n",
       "      <td>6431</td>\n",
       "      <td>1</td>\n",
       "    </tr>\n",
       "    <tr>\n",
       "      <th>6432</th>\n",
       "      <td>6432</td>\n",
       "      <td>1</td>\n",
       "    </tr>\n",
       "    <tr>\n",
       "      <th>6433</th>\n",
       "      <td>6433</td>\n",
       "      <td>1</td>\n",
       "    </tr>\n",
       "    <tr>\n",
       "      <th>6434</th>\n",
       "      <td>6434</td>\n",
       "      <td>0</td>\n",
       "    </tr>\n",
       "    <tr>\n",
       "      <th>6435</th>\n",
       "      <td>6435</td>\n",
       "      <td>1</td>\n",
       "    </tr>\n",
       "    <tr>\n",
       "      <th>6436</th>\n",
       "      <td>6436</td>\n",
       "      <td>0</td>\n",
       "    </tr>\n",
       "    <tr>\n",
       "      <th>6437</th>\n",
       "      <td>6437</td>\n",
       "      <td>1</td>\n",
       "    </tr>\n",
       "    <tr>\n",
       "      <th>6438</th>\n",
       "      <td>6438</td>\n",
       "      <td>0</td>\n",
       "    </tr>\n",
       "    <tr>\n",
       "      <th>6439</th>\n",
       "      <td>6439</td>\n",
       "      <td>0</td>\n",
       "    </tr>\n",
       "    <tr>\n",
       "      <th>6440</th>\n",
       "      <td>6440</td>\n",
       "      <td>1</td>\n",
       "    </tr>\n",
       "    <tr>\n",
       "      <th>6441</th>\n",
       "      <td>6441</td>\n",
       "      <td>0</td>\n",
       "    </tr>\n",
       "    <tr>\n",
       "      <th>6442</th>\n",
       "      <td>6442</td>\n",
       "      <td>0</td>\n",
       "    </tr>\n",
       "    <tr>\n",
       "      <th>6443</th>\n",
       "      <td>6443</td>\n",
       "      <td>1</td>\n",
       "    </tr>\n",
       "    <tr>\n",
       "      <th>6444</th>\n",
       "      <td>6444</td>\n",
       "      <td>0</td>\n",
       "    </tr>\n",
       "    <tr>\n",
       "      <th>6445</th>\n",
       "      <td>6445</td>\n",
       "      <td>0</td>\n",
       "    </tr>\n",
       "    <tr>\n",
       "      <th>6446</th>\n",
       "      <td>6446</td>\n",
       "      <td>0</td>\n",
       "    </tr>\n",
       "    <tr>\n",
       "      <th>6447</th>\n",
       "      <td>6447</td>\n",
       "      <td>1</td>\n",
       "    </tr>\n",
       "    <tr>\n",
       "      <th>6448</th>\n",
       "      <td>6448</td>\n",
       "      <td>1</td>\n",
       "    </tr>\n",
       "    <tr>\n",
       "      <th>6449</th>\n",
       "      <td>6449</td>\n",
       "      <td>1</td>\n",
       "    </tr>\n",
       "    <tr>\n",
       "      <th>6450</th>\n",
       "      <td>6450</td>\n",
       "      <td>1</td>\n",
       "    </tr>\n",
       "  </tbody>\n",
       "</table>\n",
       "<p>6451 rows × 2 columns</p>\n",
       "</div>"
      ],
      "text/plain": [
       "        ID  prediction\n",
       "0        0           0\n",
       "1        1           0\n",
       "2        2           0\n",
       "3        3           0\n",
       "4        4           0\n",
       "5        5           0\n",
       "6        6           0\n",
       "7        7           0\n",
       "8        8           0\n",
       "9        9           0\n",
       "10      10           0\n",
       "11      11           0\n",
       "12      12           0\n",
       "13      13           0\n",
       "14      14           0\n",
       "15      15           0\n",
       "16      16           0\n",
       "17      17           0\n",
       "18      18           0\n",
       "19      19           0\n",
       "20      20           0\n",
       "21      21           0\n",
       "22      22           0\n",
       "23      23           0\n",
       "24      24           0\n",
       "25      25           0\n",
       "26      26           0\n",
       "27      27           0\n",
       "28      28           0\n",
       "29      29           0\n",
       "...    ...         ...\n",
       "6421  6421           1\n",
       "6422  6422           0\n",
       "6423  6423           1\n",
       "6424  6424           0\n",
       "6425  6425           1\n",
       "6426  6426           0\n",
       "6427  6427           1\n",
       "6428  6428           0\n",
       "6429  6429           1\n",
       "6430  6430           1\n",
       "6431  6431           1\n",
       "6432  6432           1\n",
       "6433  6433           1\n",
       "6434  6434           0\n",
       "6435  6435           1\n",
       "6436  6436           0\n",
       "6437  6437           1\n",
       "6438  6438           0\n",
       "6439  6439           0\n",
       "6440  6440           1\n",
       "6441  6441           0\n",
       "6442  6442           0\n",
       "6443  6443           1\n",
       "6444  6444           0\n",
       "6445  6445           0\n",
       "6446  6446           0\n",
       "6447  6447           1\n",
       "6448  6448           1\n",
       "6449  6449           1\n",
       "6450  6450           1\n",
       "\n",
       "[6451 rows x 2 columns]"
      ]
     },
     "execution_count": 252,
     "metadata": {},
     "output_type": "execute_result"
    }
   ],
   "source": [
    "df = pd.DataFrame(x,columns=['prediction'])\n",
    "df['ID'] = x_trn.index\n",
    "df = df[['ID','prediction']]\n",
    "df"
   ]
  },
  {
   "cell_type": "code",
   "execution_count": 253,
   "metadata": {},
   "outputs": [],
   "source": [
    "df.to_csv('ss3.csv',index=None,header=True)"
   ]
  }
 ],
 "metadata": {
  "kernelspec": {
   "display_name": "Python 3",
   "language": "python",
   "name": "python3"
  },
  "language_info": {
   "codemirror_mode": {
    "name": "ipython",
    "version": 3
   },
   "file_extension": ".py",
   "mimetype": "text/x-python",
   "name": "python",
   "nbconvert_exporter": "python",
   "pygments_lexer": "ipython3",
   "version": "3.6.5"
  }
 },
 "nbformat": 4,
 "nbformat_minor": 2
}
